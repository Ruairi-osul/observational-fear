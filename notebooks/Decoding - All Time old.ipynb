{
 "cells": [
  {
   "cell_type": "code",
   "execution_count": 20,
   "metadata": {},
   "outputs": [],
   "source": [
    "from pathlib import Path\n",
    "import pandas as pd\n",
    "import matplotlib.pyplot as plt\n",
    "import seaborn as sns\n",
    "from observational_fear import load\n",
    "from neurobox.wide_transforms import resample\n",
    "from binit.align import align_around\n",
    "from sklearn.ensemble import RandomForestClassifier\n",
    "from sklearn.pipeline import make_pipeline\n",
    "from sklearn.preprocessing import StandardScaler\n",
    "from sklearn.base import clone\n",
    "from sklearn.model_selection import train_test_split\n",
    "from sklearn import metrics"
   ]
  },
  {
   "cell_type": "code",
   "execution_count": 21,
   "metadata": {},
   "outputs": [],
   "source": [
    "DATA_DIR = Path(r\"F:\\OFL\\one-p experiment\\data\")\n",
    "FIG_DIR = Path(r\"C:\\Users\\roryl\\repos\\observational-fear\\figs\")"
   ]
  },
  {
   "cell_type": "code",
   "execution_count": 42,
   "metadata": {},
   "outputs": [],
   "source": [
    "def get_mouse_cells(df_cells, mouse):\n",
    "    return df_cells.loc[lambda x: x.mouse == mouse].new_id.unique()\n",
    "\n",
    "\n",
    "def get_mouse_data(mouse, df_traces, df_freeze):\n",
    "    cells = get_mouse_cells(df_cells, mouse)\n",
    "    dft = df_traces[[c for c in df_traces.columns if c in cells or c == \"time\"]].copy()\n",
    "    dff = df_freeze.loc[lambda x: x.mouse_name == mouse].copy()\n",
    "    return dft, dff\n",
    "\n",
    "\n",
    "def resample_two(df_traces, df_freeze, interval, freeze_col):\n",
    "    df_traces = resample(df_traces.set_index(\"time\"), interval).dropna()\n",
    "    df_freeze.index = df_freeze[\"time\"].round(2)\n",
    "    df_freeze = resample(df_freeze[[freeze_col]], interval).round()\n",
    "    df_freeze = df_freeze.reindex(df_traces.index, method=\"bfill\")\n",
    "    df_freeze = df_freeze.rename(columns={freeze_col: \"freeze_status\"})\n",
    "    return df_traces, df_freeze\n",
    "\n",
    "\n",
    "def fit_model(dft, dff, pipe, shuffle=False):\n",
    "    X_train, X_test, y_train, y_test = train_test_split(dft, dff, shuffle=shuffle)\n",
    "    pipe.fit(X_train, y_train)\n",
    "    y_hat = pipe.predict(X_test)\n",
    "    f1 = metrics.f1_score(y_test, y_hat)\n",
    "    return f1, pipe\n",
    "\n",
    "\n",
    "def get_hat(dft, dff, fitted_model, time_before=5, time_after=5):\n",
    "    pred = fitted_model.predict(dft).flatten()\n",
    "    pred_proba = fitted_model.predict_proba(dft)[:, 1].flatten()\n",
    "    true_state = dff.values.flatten()\n",
    "    time = dff.index.values.flatten()\n",
    "    hat = pd.DataFrame(\n",
    "        {\"time\": time, \"pred\": pred, \"pred_proba\": pred_proba, \"true_state\": true_state}\n",
    "    ).sort_values(\"time\")\n",
    "    freeze_starts = dff.loc[\n",
    "        lambda x: x[\"freeze_status\"].diff() == 1\n",
    "    ].index.values  # freeze_onsets\n",
    "    freeze_stops = dff.loc[\n",
    "        lambda x: x[\"freeze_status\"].diff() == -1\n",
    "    ].index.values  # freeze_offsets\n",
    "    hat[\"onset_aligned\"] = align_around(\n",
    "        hat[\"time\"].values, freeze_starts, t_before=time_before, max_latency=time_after\n",
    "    )\n",
    "    hat[\"offset_aligned\"] = align_around(\n",
    "        hat[\"time\"].values, freeze_stops, t_before=time_before, max_latency=time_after\n",
    "    )\n",
    "    return hat\n",
    "\n",
    "\n",
    "def run_decoder(\n",
    "    dft,\n",
    "    dff,\n",
    "    pipe,\n",
    "    resample_interval=\"100ms\",\n",
    "    time_before=5,\n",
    "    time_after=5,\n",
    "    freeze_col=\"was_freezing_obs\",\n",
    "    shuffle=False\n",
    "):\n",
    "    dft, dff = resample_two(dft, dff, interval=resample_interval, freeze_col=freeze_col)\n",
    "    f1, pipe_fitted = fit_model(dft, dff, pipe, shuffle=shuffle)\n",
    "    hat = get_hat(\n",
    "        dft,\n",
    "        dff,\n",
    "        fitted_model=pipe_fitted,\n",
    "        time_before=time_before,\n",
    "        time_after=time_after,\n",
    "    )\n",
    "    return f1, hat\n"
   ]
  },
  {
   "cell_type": "code",
   "execution_count": 93,
   "metadata": {},
   "outputs": [
    {
     "name": "stdout",
     "output_type": "stream",
     "text": [
      "B17274\n",
      "B17276\n",
      "B43396\n",
      "PL-OFL-2\n",
      "PL-OFL-4\n",
      "PL-OFL-5\n",
      "PL-OFL-6\n",
      "PL-OFL-7\n"
     ]
    }
   ],
   "source": [
    "import warnings\n",
    "warnings.filterwarnings(\"ignore\")\n",
    "\n",
    "session = \"day2\"\n",
    "\n",
    "df_freeze = load.load_freeze(DATA_DIR, session=session)\n",
    "df_cells = load.load_cells(DATA_DIR)\n",
    "df_cells[\"new_id\"] = df_cells[\"new_id\"].astype(\"str\") \n",
    "df_traces = load.load_traces(DATA_DIR, session=session)\n",
    "\n",
    "pipe = make_pipeline(\n",
    "    RandomForestClassifier(n_estimators=220, max_depth=4),\n",
    ")\n",
    "\n",
    "mice = df_cells.mouse.unique()\n",
    "f1s = []\n",
    "hats = []\n",
    "for mouse in mice:\n",
    "    print(mouse)\n",
    "    dft, dff = get_mouse_data(mouse, df_traces, df_freeze)\n",
    "    f1, hat = run_decoder(dft, dff, clone(pipe), resample_interval=\"200ms\", shuffle=True, time_before=5, time_after=5)\n",
    "    hat[\"mouse\"] = mouse\n",
    "    hats.append(hat)\n",
    "    f1s.append(f1)\n",
    "\n",
    "f1s = pd.DataFrame({\"mouse\": mice, \"f1\": f1s})\n",
    "df_hat = pd.concat(hats).reset_index(drop=True)"
   ]
  },
  {
   "cell_type": "code",
   "execution_count": 94,
   "metadata": {},
   "outputs": [
    {
     "data": {
      "text/plain": [
       "<AxesSubplot:xlabel='onset_aligned', ylabel='value'>"
      ]
     },
     "execution_count": 94,
     "metadata": {},
     "output_type": "execute_result"
    },
    {
     "data": {
      "image/png": "[encoded data removed]",
      "text/plain": [
       "<Figure size 432x288 with 1 Axes>"
      ]
     },
     "metadata": {
      "needs_background": "light"
     },
     "output_type": "display_data"
    }
   ],
   "source": [
    "from scipy.ndimage import gaussian_filter1d\n",
    "\n",
    "dfp = (\n",
    "    df_hat\n",
    "    .pivot_table(index=\"onset_aligned\", columns=\"mouse\", values=\"pred_proba\", aggfunc=np.median)\n",
    "    .bfill()\n",
    "    .apply(gaussian_filter1d, sigma=10)\n",
    "    .reset_index()\n",
    "    .melt(id_vars=\"onset_aligned\")\n",
    ")\n",
    "\n",
    "\n",
    "sns.lineplot(data=dfp, x=\"onset_aligned\", y=\"value\", ci=\"sd\")\n",
    "# plt.axhline(0.5)"
   ]
  },
  {
   "cell_type": "code",
   "execution_count": 95,
   "metadata": {},
   "outputs": [
    {
     "data": {
      "text/plain": [
       "<AxesSubplot:xlabel='offset_aligned', ylabel='value'>"
      ]
     },
     "execution_count": 95,
     "metadata": {},
     "output_type": "execute_result"
    },
    {
     "data": {
      "image/png": "[encoded data removed]",
      "text/plain": [
       "<Figure size 432x288 with 1 Axes>"
      ]
     },
     "metadata": {
      "needs_background": "light"
     },
     "output_type": "display_data"
    }
   ],
   "source": [
    "import matplotlib.pyplot as plt\n",
    "import numpy as np\n",
    "\n",
    "\n",
    "\n",
    "dfp = (\n",
    "    df_hat\n",
    "    .pivot_table(index=\"offset_aligned\", columns=\"mouse\", values=\"pred_proba\", aggfunc=np.mean)\n",
    "    .bfill()\n",
    "    .apply(gaussian_filter1d, sigma=10)\n",
    "    .reset_index()\n",
    "    .melt(id_vars=\"offset_aligned\")\n",
    ")\n",
    "\n",
    "\n",
    "sns.lineplot(data=dfp, x=\"offset_aligned\", y=\"value\", ci=\"sd\")\n",
    "# plt.axhline(0.5)"
   ]
  },
  {
   "cell_type": "code",
   "execution_count": 104,
   "metadata": {},
   "outputs": [
    {
     "data": {
      "text/plain": [
       "(0.0, 1.0)"
      ]
     },
     "execution_count": 104,
     "metadata": {},
     "output_type": "execute_result"
    },
    {
     "data": {
      "image/png": "[encoded data removed]",
      "text/plain": [
       "<Figure size 72x288 with 1 Axes>"
      ]
     },
     "metadata": {
      "needs_background": "light"
     },
     "output_type": "display_data"
    }
   ],
   "source": [
    "plt.figure(figsize=(1,4))\n",
    "sns.barplot(data=f1s, y=\"f1\", color=\"black\")\n",
    "plt.ylim(0, 1)"
   ]
  },
  {
   "cell_type": "code",
   "execution_count": null,
   "metadata": {},
   "outputs": [],
   "source": []
  }
 ],
 "metadata": {
  "interpreter": {
   "hash": "3a8e119cf53ab9b37a51e903f8a5ac94bb56fa8ae994ac5c8f462adfdd95f38b"
  },
  "kernelspec": {
   "display_name": "Python 3.7.11 ('observational-fear')",
   "language": "python",
   "name": "python3"
  },
  "language_info": {
   "codemirror_mode": {
    "name": "ipython",
    "version": 3
   },
   "file_extension": ".py",
   "mimetype": "text/x-python",
   "name": "python",
   "nbconvert_exporter": "python",
   "pygments_lexer": "ipython3",
   "version": "3.7.11"
  },
  "orig_nbformat": 4
 },
 "nbformat": 4,
 "nbformat_minor": 2
}
