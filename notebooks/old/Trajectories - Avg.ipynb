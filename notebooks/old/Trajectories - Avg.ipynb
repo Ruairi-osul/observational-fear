{
 "cells": [
  {
   "cell_type": "code",
   "execution_count": 1,
   "metadata": {},
   "outputs": [],
   "source": [
    "from pathlib import Path\n",
    "import numpy as np\n",
    "import pandas as pd\n",
    "import matplotlib.pyplot as plt\n",
    "import seaborn as sns\n",
    "from typing import Optional\n",
    "\n",
    "from observational_fear import load\n",
    "from observational_fear.utils import load_traces_aligned_to_block_wide\n",
    "from observational_fear.utils import \n",
    "from observational_fear.trajectories import get_scree, get_loadings\n",
    "\n",
    "from sklearn.decomposition import PCA\n",
    "from scipy.spatial import distance\n",
    "from scipy.stats import zscore\n",
    "\n",
    "sns.set_style(\"whitegrid\")\n",
    "DATA_DIR = Path(r\"F:\\OFL\\one-p experiment\\data\")\n",
    "FIG_DIR = Path(r\"C:\\Users\\roryl\\repos\\observational-fear\\figs\")\n",
    "save_dir = DATA_DIR / \"derived\" / \"tradjectories\"\n",
    "save_dir.mkdir(exist_ok=True)"
   ]
  },
  {
   "cell_type": "code",
   "execution_count": 2,
   "metadata": {},
   "outputs": [
    {
     "name": "stderr",
     "output_type": "stream",
     "text": [
      "c:\\users\\roryl\\repos\\neurobox\\neurobox\\wide_transforms.py:99: PerformanceWarning: DataFrame is highly fragmented.  This is usually the result of calling `frame.insert` many times, which has poor performance.  Consider joining all columns at once using pd.concat(axis=1) instead.  To get a de-fragmented frame, use `newframe = frame.copy()`\n",
      "  df[\"time\"] = pd.to_timedelta(df.index, unit=\"s\")\n",
      "c:\\users\\roryl\\repos\\observational-fear\\observational_fear\\utils.py:73: SettingWithCopyWarning: \n",
      "A value is trying to be set on a copy of a slice from a DataFrame.\n",
      "Try using .loc[row_indexer,col_indexer] = value instead\n",
      "\n",
      "See the caveats in the documentation: https://pandas.pydata.org/pandas-docs/stable/user_guide/indexing.html#returning-a-view-versus-a-copy\n",
      "  df_traces[\"time\"].values, events, time_before=t_before, time_after=t_after\n"
     ]
    }
   ],
   "source": [
    "d2 = load_traces_aligned_to_block_wide(\n",
    "    DATA_DIR, \n",
    "    session=\"day2\",\n",
    "    block=\"US\",\n",
    "    sampling_interval=\"100ms\",\n",
    "    t_before=10,\n",
    "    t_after=10\n",
    "    )"
   ]
  },
  {
   "cell_type": "code",
   "execution_count": null,
   "metadata": {},
   "outputs": [],
   "source": []
  }
 ],
 "metadata": {
  "interpreter": {
   "hash": "3a8e119cf53ab9b37a51e903f8a5ac94bb56fa8ae994ac5c8f462adfdd95f38b"
  },
  "kernelspec": {
   "display_name": "Python 3.7.11 ('observational-fear')",
   "language": "python",
   "name": "python3"
  },
  "language_info": {
   "codemirror_mode": {
    "name": "ipython",
    "version": 3
   },
   "file_extension": ".py",
   "mimetype": "text/x-python",
   "name": "python",
   "nbconvert_exporter": "python",
   "pygments_lexer": "ipython3",
   "version": "3.7.11"
  },
  "orig_nbformat": 4
 },
 "nbformat": 4,
 "nbformat_minor": 2
}
