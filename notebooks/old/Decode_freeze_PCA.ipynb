{
   "cells": [
    {
     "cell_type": "code",
     "execution_count": 1,
     "metadata": {},
     "outputs": [],
     "source": [
      "import observational_fear.load as load\n",
      "from observational_fear.nbox_transforms import (\n",
      "    summarize_prepost_events,\n",
      "    wilcoxon_by_cell,\n",
      ")\n",
      "from observational_fear.events import get_block_starts\n",
      "from observational_fear.stats import auc\n",
      "from neurobox.wide_transforms import resample\n",
      "from pathlib import Path\n",
      "import pandas as pd\n",
      "import numpy as np\n",
      "from binit.align import align_around\n",
      "from scipy.stats import zscore\n",
      "import matplotlib.pyplot as plt\n",
      "import seaborn as sns\n",
      "from observational_fear.events import get_freeze_starts\n",
      "from neurobox.long_transforms import align_to_events\n",
      "from observational_fear.nbox_transforms import align_to_data_by, exclude_short_trials\n",
      "from scipy.ndimage import gaussian_filter1d\n",
      "from sklearn.model_selection import TimeSeriesSplit, cross_val_score\n",
      "from sklearn.pipeline import make_pipeline\n",
      "from sklearn.linear_model import LogisticRegression\n",
      "from sklearn.decomposition import PCA\n",
      "from sklearn.base import clone\n",
      "sns.set_style(\"whitegrid\")\n",
      "\n",
      "DATA_DIR = Path(r\"D:\\OFL\\one-p experiment\\data\")\n",
      "FIG_DIR = Path(r\"C:\\Users\\roryl\\repos\\observational-fear\\figs\")\n"
     ]
    },
    {
     "cell_type": "code",
     "execution_count": 2,
     "metadata": {},
     "outputs": [],
     "source": [
      "def get_bloc_psth(df, cs_starts):\n",
      "    df = df.reset_index().melt(id_vars=[\"time\"])\n",
      "    return (\n",
      "        df\n",
      "        .assign(\n",
      "            aligned=lambda x: np.round(\n",
      "                align_around(x[\"time\"].values, cs_starts, t_before=5, max_latency=5), 2\n",
      "            )\n",
      "        )\n",
      "        .pivot_table(columns=\"new_id\", values=\"value\", index=\"aligned\")\n",
      "        .apply(zscore)\n",
      "    )\n",
      "\n",
      "\n",
      "def shuffle_block(df_traces, block_starts, pipe):\n",
      "    shuffled_scores = []\n",
      "    for i in range(10):\n",
      "        df_shuffled = df_traces.sample(frac=1).copy()\n",
      "        df_shuffled.index = df_traces.index\n",
      "\n",
      "        df_shuffled = get_bloc_psth(df_shuffled, block_starts)\n",
      "        X = df_shuffled.dropna()\n",
      "        y = np.where(df_shuffled.index <= 0, \"ITI\", \"CS\")\n",
      "        pipe1 = clone(pipe)\n",
      "\n",
      "        scores=cross_val_score(pipe1, X=X, y=y, scoring=\"f1_macro\")\n",
      "        shuffled_scores.append(scores)\n",
      "    return shuffled_scores\n",
      "\n",
      "def plot_pcs(X, y, **kwargs):\n",
      "    to_plot = pd.DataFrame(PCA(10).fit_transform(X)[:, :2], columns=[\"PC1\", \"PC2\"]).assign(color=X.index)\n",
      "    to_plot[\"y\"] = y\n",
      "    return sns.lineplot(x=\"PC1\", y=\"PC2\", hue=\"y\", data=to_plot, ci=None, **kwargs)\n",
      "    \n"
     ]
    },
    {
     "cell_type": "markdown",
     "metadata": {},
     "source": [
      "# Day 2 CS"
     ]
    },
    {
     "cell_type": "code",
     "execution_count": 3,
     "metadata": {},
     "outputs": [
      {
       "ename": "FileNotFoundError",
       "evalue": "[Errno 2] No such file or directory: 'D:\\\\OFL\\\\one-p experiment\\\\data\\\\day2-traces.parquet.gzip'",
       "output_type": "error",
       "traceback": [
        "\u001b[1;31m---------------------------------------------------------------------------\u001b[0m",
        "\u001b[1;31mFileNotFoundError\u001b[0m                         Traceback (most recent call last)",
        "\u001b[1;32m~\\AppData\\Local\\Temp/ipykernel_3944/2743090372.py\u001b[0m in \u001b[0;36m<module>\u001b[1;34m\u001b[0m\n\u001b[0;32m      1\u001b[0m \u001b[0mSESSION\u001b[0m \u001b[1;33m=\u001b[0m \u001b[1;34m\"day2\"\u001b[0m\u001b[1;33m\u001b[0m\u001b[1;33m\u001b[0m\u001b[0m\n\u001b[1;32m----> 2\u001b[1;33m \u001b[0mdf\u001b[0m \u001b[1;33m=\u001b[0m \u001b[0mload\u001b[0m\u001b[1;33m.\u001b[0m\u001b[0mload_traces\u001b[0m\u001b[1;33m(\u001b[0m\u001b[0mDATA_DIR\u001b[0m\u001b[1;33m,\u001b[0m \u001b[0msession\u001b[0m\u001b[1;33m=\u001b[0m\u001b[0mSESSION\u001b[0m\u001b[1;33m)\u001b[0m\u001b[1;33m\u001b[0m\u001b[1;33m\u001b[0m\u001b[0m\n\u001b[0m\u001b[0;32m      3\u001b[0m \u001b[0mdf\u001b[0m \u001b[1;33m=\u001b[0m \u001b[0mresample\u001b[0m\u001b[1;33m(\u001b[0m\u001b[0mdf\u001b[0m\u001b[1;33m.\u001b[0m\u001b[0mset_index\u001b[0m\u001b[1;33m(\u001b[0m\u001b[1;34m\"time\"\u001b[0m\u001b[1;33m)\u001b[0m\u001b[1;33m,\u001b[0m \u001b[1;34m\"100ms\"\u001b[0m\u001b[1;33m)\u001b[0m\u001b[1;33m\u001b[0m\u001b[1;33m\u001b[0m\u001b[0m\n",
        "\u001b[1;32mc:\\users\\roryl\\repos\\observational-fear\\observational_fear\\load.py\u001b[0m in \u001b[0;36mload_traces\u001b[1;34m(data_dir, session)\u001b[0m\n\u001b[0;32m     16\u001b[0m \u001b[1;33m\u001b[0m\u001b[0m\n\u001b[0;32m     17\u001b[0m \u001b[1;32mdef\u001b[0m \u001b[0mload_traces\u001b[0m\u001b[1;33m(\u001b[0m\u001b[0mdata_dir\u001b[0m\u001b[1;33m:\u001b[0m \u001b[0mPath\u001b[0m\u001b[1;33m,\u001b[0m \u001b[0msession\u001b[0m\u001b[1;33m:\u001b[0m \u001b[0mstr\u001b[0m\u001b[1;33m)\u001b[0m \u001b[1;33m->\u001b[0m \u001b[0mpd\u001b[0m\u001b[1;33m.\u001b[0m\u001b[0mDataFrame\u001b[0m\u001b[1;33m:\u001b[0m\u001b[1;33m\u001b[0m\u001b[1;33m\u001b[0m\u001b[0m\n\u001b[1;32m---> 18\u001b[1;33m     \u001b[1;32mreturn\u001b[0m \u001b[0mpd\u001b[0m\u001b[1;33m.\u001b[0m\u001b[0mread_parquet\u001b[0m\u001b[1;33m(\u001b[0m\u001b[0mdata_dir\u001b[0m \u001b[1;33m/\u001b[0m \u001b[1;34mf\"{session}-traces.parquet.gzip\"\u001b[0m\u001b[1;33m)\u001b[0m\u001b[1;33m\u001b[0m\u001b[1;33m\u001b[0m\u001b[0m\n\u001b[0m\u001b[0;32m     19\u001b[0m \u001b[1;33m\u001b[0m\u001b[0m\n\u001b[0;32m     20\u001b[0m \u001b[1;33m\u001b[0m\u001b[0m\n",
        "\u001b[1;32m~\\.conda\\envs\\observational-fear\\lib\\site-packages\\pandas\\io\\parquet.py\u001b[0m in \u001b[0;36mread_parquet\u001b[1;34m(path, engine, columns, storage_options, use_nullable_dtypes, **kwargs)\u001b[0m\n\u001b[0;32m    498\u001b[0m         \u001b[0mstorage_options\u001b[0m\u001b[1;33m=\u001b[0m\u001b[0mstorage_options\u001b[0m\u001b[1;33m,\u001b[0m\u001b[1;33m\u001b[0m\u001b[1;33m\u001b[0m\u001b[0m\n\u001b[0;32m    499\u001b[0m         \u001b[0muse_nullable_dtypes\u001b[0m\u001b[1;33m=\u001b[0m\u001b[0muse_nullable_dtypes\u001b[0m\u001b[1;33m,\u001b[0m\u001b[1;33m\u001b[0m\u001b[1;33m\u001b[0m\u001b[0m\n\u001b[1;32m--> 500\u001b[1;33m         \u001b[1;33m**\u001b[0m\u001b[0mkwargs\u001b[0m\u001b[1;33m,\u001b[0m\u001b[1;33m\u001b[0m\u001b[1;33m\u001b[0m\u001b[0m\n\u001b[0m\u001b[0;32m    501\u001b[0m     )\n",
        "\u001b[1;32m~\\.conda\\envs\\observational-fear\\lib\\site-packages\\pandas\\io\\parquet.py\u001b[0m in \u001b[0;36mread\u001b[1;34m(self, path, columns, use_nullable_dtypes, storage_options, **kwargs)\u001b[0m\n\u001b[0;32m    234\u001b[0m             \u001b[0mkwargs\u001b[0m\u001b[1;33m.\u001b[0m\u001b[0mpop\u001b[0m\u001b[1;33m(\u001b[0m\u001b[1;34m\"filesystem\"\u001b[0m\u001b[1;33m,\u001b[0m \u001b[1;32mNone\u001b[0m\u001b[1;33m)\u001b[0m\u001b[1;33m,\u001b[0m\u001b[1;33m\u001b[0m\u001b[1;33m\u001b[0m\u001b[0m\n\u001b[0;32m    235\u001b[0m             \u001b[0mstorage_options\u001b[0m\u001b[1;33m=\u001b[0m\u001b[0mstorage_options\u001b[0m\u001b[1;33m,\u001b[0m\u001b[1;33m\u001b[0m\u001b[1;33m\u001b[0m\u001b[0m\n\u001b[1;32m--> 236\u001b[1;33m             \u001b[0mmode\u001b[0m\u001b[1;33m=\u001b[0m\u001b[1;34m\"rb\"\u001b[0m\u001b[1;33m,\u001b[0m\u001b[1;33m\u001b[0m\u001b[1;33m\u001b[0m\u001b[0m\n\u001b[0m\u001b[0;32m    237\u001b[0m         )\n\u001b[0;32m    238\u001b[0m         \u001b[1;32mtry\u001b[0m\u001b[1;33m:\u001b[0m\u001b[1;33m\u001b[0m\u001b[1;33m\u001b[0m\u001b[0m\n",
        "\u001b[1;32m~\\.conda\\envs\\observational-fear\\lib\\site-packages\\pandas\\io\\parquet.py\u001b[0m in \u001b[0;36m_get_path_or_handle\u001b[1;34m(path, fs, storage_options, mode, is_dir)\u001b[0m\n\u001b[0;32m    100\u001b[0m         \u001b[1;31m# this branch is used for example when reading from non-fsspec URLs\u001b[0m\u001b[1;33m\u001b[0m\u001b[1;33m\u001b[0m\u001b[1;33m\u001b[0m\u001b[0m\n\u001b[0;32m    101\u001b[0m         handles = get_handle(\n\u001b[1;32m--> 102\u001b[1;33m             \u001b[0mpath_or_handle\u001b[0m\u001b[1;33m,\u001b[0m \u001b[0mmode\u001b[0m\u001b[1;33m,\u001b[0m \u001b[0mis_text\u001b[0m\u001b[1;33m=\u001b[0m\u001b[1;32mFalse\u001b[0m\u001b[1;33m,\u001b[0m \u001b[0mstorage_options\u001b[0m\u001b[1;33m=\u001b[0m\u001b[0mstorage_options\u001b[0m\u001b[1;33m\u001b[0m\u001b[1;33m\u001b[0m\u001b[0m\n\u001b[0m\u001b[0;32m    103\u001b[0m         )\n\u001b[0;32m    104\u001b[0m         \u001b[0mfs\u001b[0m \u001b[1;33m=\u001b[0m \u001b[1;32mNone\u001b[0m\u001b[1;33m\u001b[0m\u001b[1;33m\u001b[0m\u001b[0m\n",
        "\u001b[1;32m~\\.conda\\envs\\observational-fear\\lib\\site-packages\\pandas\\io\\common.py\u001b[0m in \u001b[0;36mget_handle\u001b[1;34m(path_or_buf, mode, encoding, compression, memory_map, is_text, errors, storage_options)\u001b[0m\n\u001b[0;32m    709\u001b[0m         \u001b[1;32melse\u001b[0m\u001b[1;33m:\u001b[0m\u001b[1;33m\u001b[0m\u001b[1;33m\u001b[0m\u001b[0m\n\u001b[0;32m    710\u001b[0m             \u001b[1;31m# Binary mode\u001b[0m\u001b[1;33m\u001b[0m\u001b[1;33m\u001b[0m\u001b[1;33m\u001b[0m\u001b[0m\n\u001b[1;32m--> 711\u001b[1;33m             \u001b[0mhandle\u001b[0m \u001b[1;33m=\u001b[0m \u001b[0mopen\u001b[0m\u001b[1;33m(\u001b[0m\u001b[0mhandle\u001b[0m\u001b[1;33m,\u001b[0m \u001b[0mioargs\u001b[0m\u001b[1;33m.\u001b[0m\u001b[0mmode\u001b[0m\u001b[1;33m)\u001b[0m\u001b[1;33m\u001b[0m\u001b[1;33m\u001b[0m\u001b[0m\n\u001b[0m\u001b[0;32m    712\u001b[0m         \u001b[0mhandles\u001b[0m\u001b[1;33m.\u001b[0m\u001b[0mappend\u001b[0m\u001b[1;33m(\u001b[0m\u001b[0mhandle\u001b[0m\u001b[1;33m)\u001b[0m\u001b[1;33m\u001b[0m\u001b[1;33m\u001b[0m\u001b[0m\n\u001b[0;32m    713\u001b[0m \u001b[1;33m\u001b[0m\u001b[0m\n",
        "\u001b[1;31mFileNotFoundError\u001b[0m: [Errno 2] No such file or directory: 'D:\\\\OFL\\\\one-p experiment\\\\data\\\\day2-traces.parquet.gzip'"
       ]
      }
     ],
     "source": [
      "SESSION = \"day2\"\n",
      "df = load.load_traces(DATA_DIR, session=SESSION)\n",
      "df = resample(df.set_index(\"time\"), \"100ms\")"
     ]
    },
    {
     "cell_type": "code",
     "execution_count": null,
     "metadata": {},
     "outputs": [
      {
       "data": {
        "text/plain": [
         "<AxesSubplot:xlabel='PC1', ylabel='PC2'>"
        ]
       },
       "execution_count": 152,
       "metadata": {},
       "output_type": "execute_result"
      },
      {
       "data": {
        "image/png": "[encoded data removed]",
        "text/plain": [
         "<Figure size 432x288 with 1 Axes>"
        ]
       },
       "metadata": {},
       "output_type": "display_data"
      }
     ],
     "source": [
      "df_real = df\n",
      "cs_starts = get_block_starts(session=\"day2\", block_name=\"CS\")\n",
      "get_bloc_psth\n",
      "X = get_bloc_psth(df_real, cs_starts)\n",
      "\n",
      "y = np.where(X.index <= 0, \"ITI\", \"CS\")\n",
      "pipe = make_pipeline(PCA(2), LogisticRegression())\n",
      "obs = cross_val_score(clone(pipe), X, y)\n",
      "# reps = shuffle_block(df, cs_starts, pipe)\n",
      "\n",
      "plot_pcs(X, y)"
     ]
    },
    {
     "cell_type": "code",
     "execution_count": null,
     "metadata": {},
     "outputs": [],
     "source": []
    },
    {
     "cell_type": "markdown",
     "metadata": {},
     "source": [
      "# Day 2 US"
     ]
    },
    {
     "cell_type": "code",
     "execution_count": 157,
     "metadata": {},
     "outputs": [
      {
       "data": {
        "text/plain": [
         "<AxesSubplot:xlabel='PC1', ylabel='PC2'>"
        ]
       },
       "execution_count": 157,
       "metadata": {},
       "output_type": "execute_result"
      },
      {
       "data": {
        "image/png": "[encoded data removed]",
        "text/plain": [
         "<Figure size 432x288 with 1 Axes>"
        ]
       },
       "metadata": {},
       "output_type": "display_data"
      }
     ],
     "source": [
      "df_real = df\n",
      "cs_starts = get_block_starts(session=\"day2\", block_name=\"US\")\n",
      "get_bloc_psth\n",
      "X = get_bloc_psth(df_real, cs_starts)\n",
      "\n",
      "y = np.where(X.index <= 0, \"CS\", \"US\")\n",
      "pipe = make_pipeline(PCA(2), LogisticRegression())\n",
      "obs = cross_val_score(clone(pipe), X, y)\n",
      "# reps = shuffle_block(df, cs_starts, pipe)\n",
      "\n",
      "plot_pcs(X, y)"
     ]
    },
    {
     "cell_type": "code",
     "execution_count": 165,
     "metadata": {},
     "outputs": [
      {
       "name": "stderr",
       "output_type": "stream",
       "text": [
        "c:\\users\\roryl\\repos\\neurobox\\neurobox\\wide_transforms.py:99: PerformanceWarning: DataFrame is highly fragmented.  This is usually the result of calling `frame.insert` many times, which has poor performance.  Consider joining all columns at once using pd.concat(axis=1) instead.  To get a de-fragmented frame, use `newframe = frame.copy()`\n",
        "  df[\"time\"] = pd.to_timedelta(df.index, unit=\"s\")\n"
       ]
      },
      {
       "data": {
        "text/html": [
         "<div>\n",
         "<style scoped>\n",
         "    .dataframe tbody tr th:only-of-type {\n",
         "        vertical-align: middle;\n",
         "    }\n",
         "\n",
         "    .dataframe tbody tr th {\n",
         "        vertical-align: top;\n",
         "    }\n",
         "\n",
         "    .dataframe thead th {\n",
         "        text-align: right;\n",
         "    }\n",
         "</style>\n",
         "<table border=\"1\" class=\"dataframe\">\n",
         "  <thead>\n",
         "    <tr style=\"text-align: right;\">\n",
         "      <th></th>\n",
         "      <th>mouse</th>\n",
         "      <th>freeze_start</th>\n",
         "    </tr>\n",
         "  </thead>\n",
         "  <tbody>\n",
         "    <tr>\n",
         "      <th>0</th>\n",
         "      <td>B17274</td>\n",
         "      <td>0.666667</td>\n",
         "    </tr>\n",
         "    <tr>\n",
         "      <th>1</th>\n",
         "      <td>B17274</td>\n",
         "      <td>7.833333</td>\n",
         "    </tr>\n",
         "    <tr>\n",
         "      <th>2</th>\n",
         "      <td>B17274</td>\n",
         "      <td>10.033333</td>\n",
         "    </tr>\n",
         "    <tr>\n",
         "      <th>3</th>\n",
         "      <td>B17274</td>\n",
         "      <td>44.700000</td>\n",
         "    </tr>\n",
         "    <tr>\n",
         "      <th>4</th>\n",
         "      <td>B17274</td>\n",
         "      <td>47.333333</td>\n",
         "    </tr>\n",
         "    <tr>\n",
         "      <th>...</th>\n",
         "      <td>...</td>\n",
         "      <td>...</td>\n",
         "    </tr>\n",
         "    <tr>\n",
         "      <th>1940</th>\n",
         "      <td>PL-OFL-7</td>\n",
         "      <td>2084.033333</td>\n",
         "    </tr>\n",
         "    <tr>\n",
         "      <th>1941</th>\n",
         "      <td>PL-OFL-7</td>\n",
         "      <td>2088.966667</td>\n",
         "    </tr>\n",
         "    <tr>\n",
         "      <th>1942</th>\n",
         "      <td>PL-OFL-7</td>\n",
         "      <td>2098.600000</td>\n",
         "    </tr>\n",
         "    <tr>\n",
         "      <th>1943</th>\n",
         "      <td>PL-OFL-7</td>\n",
         "      <td>2115.833333</td>\n",
         "    </tr>\n",
         "    <tr>\n",
         "      <th>1944</th>\n",
         "      <td>PL-OFL-7</td>\n",
         "      <td>2124.966667</td>\n",
         "    </tr>\n",
         "  </tbody>\n",
         "</table>\n",
         "<p>1945 rows × 2 columns</p>\n",
         "</div>"
        ],
        "text/plain": [
         "         mouse  freeze_start\n",
         "0       B17274      0.666667\n",
         "1       B17274      7.833333\n",
         "2       B17274     10.033333\n",
         "3       B17274     44.700000\n",
         "4       B17274     47.333333\n",
         "...        ...           ...\n",
         "1940  PL-OFL-7   2084.033333\n",
         "1941  PL-OFL-7   2088.966667\n",
         "1942  PL-OFL-7   2098.600000\n",
         "1943  PL-OFL-7   2115.833333\n",
         "1944  PL-OFL-7   2124.966667\n",
         "\n",
         "[1945 rows x 2 columns]"
        ]
       },
       "execution_count": 165,
       "metadata": {},
       "output_type": "execute_result"
      }
     ],
     "source": [
      "# Day 4 CS\n",
      "df = load.load_traces(DATA_DIR, session=SESSION)\n",
      "df = resample(df.set_index(\"time\"), \"100ms\")\n",
      "df = df.reset_index().melt(id_vars=[\"time\"])\n",
      "\n",
      "results_day2_freeze_starts = pd.read_csv(DATA_DIR / \"freeze_starts_day2.csv\")\n",
      "df_freeze = load.load_freeze(DATA_DIR, SESSION)\n",
      "\n",
      "events_day2_freeze_starts = get_freeze_starts(\n",
      "    df_freeze, freeze_col=\"was_freezing_dem\", mouse_col=\"mouse_name\"\n",
      ")\n",
      "\n",
      "df_events = events_day2_freeze_starts.rename(columns={\"mouse_name\": \"mouse\"})\n",
      "\n",
      "traces_day2_freeze_starts = align_to_data_by(\n",
      "    df_data=load.load_cells(DATA_DIR).assign(new_id=lambda x: x.new_id.astype(str)).merge(df).copy(),\n",
      "    df_events=df_events,\n",
      "    df_data_time_col=\"time\",\n",
      "    df_data_cell_col=\"new_id\",\n",
      "    df_data_value_col=\"value\",\n",
      "    time_before_event=5,\n",
      "    time_after_event=2,\n",
      "    df_data_group_col=\"mouse\",\n",
      "    df_events_timestamp_col=\"freeze_start\",\n",
      "    df_events_group_colname=\"mouse\",\n",
      "    precision=2,\n",
      ")\n",
      "traces_day2_freeze_starts = exclude_short_trials(traces_day2_freeze_starts,\n",
      "                trial_col=\"event\",\n",
      "                min_bins_pre_event=30,\n",
      "                min_bins_post_event=15,\n",
      "                cell_col=\"new_id\")\n",
      "\n",
      "df = (\n",
      "    traces_day2_freeze_starts.pivot_table(columns=\"new_id\", values=\"value\", index=\"aligned\")\n",
      "    .apply(gaussian_filter1d, sigma=1.4)\n",
      "    .apply(zscore)\n",
      ")\n",
      "\n",
      "df_events"
     ]
    },
    {
     "cell_type": "code",
     "execution_count": 168,
     "metadata": {},
     "outputs": [
      {
       "data": {
        "text/plain": [
         "<AxesSubplot:xlabel='PC1', ylabel='PC2'>"
        ]
       },
       "execution_count": 168,
       "metadata": {},
       "output_type": "execute_result"
      },
      {
       "data": {
        "image/png": "[encoded data removed]",
        "text/plain": [
         "<Figure size 432x288 with 1 Axes>"
        ]
       },
       "metadata": {},
       "output_type": "display_data"
      }
     ],
     "source": [
      "X = df\n",
      "\n",
      "y = np.where(X.index <= 0, \"CS\", \"US\")\n",
      "pipe = make_pipeline(PCA(2), LogisticRegression())\n",
      "obs = cross_val_score(clone(pipe), X, y)\n",
      "\n",
      "obs\n",
      "plot_pcs(X, y)"
     ]
    },
    {
     "cell_type": "code",
     "execution_count": 164,
     "metadata": {},
     "outputs": [
      {
       "data": {
        "text/plain": [
         "<function observational_fear.load.load_traces(data_dir: pathlib.Path, session: str) -> pandas.core.frame.DataFrame>"
        ]
       },
       "execution_count": 164,
       "metadata": {},
       "output_type": "execute_result"
      }
     ],
     "source": [
      "# 1: Calculate Average Trace, Decompose, Classif\n",
      "# \n",
      "# y\n",
      "df"
     ]
    },
    {
     "cell_type": "code",
     "execution_count": 124,
     "metadata": {},
     "outputs": [],
     "source": [
      "# 2: Align and decompose each trial, classify\n"
     ]
    },
    {
     "cell_type": "code",
     "execution_count": null,
     "metadata": {},
     "outputs": [],
     "source": [
      "# 3: Decompose, de"
     ]
    },
    {
     "cell_type": "code",
     "execution_count": 144,
     "metadata": {},
     "outputs": [
      {
       "data": {
        "text/plain": [
         "array([0.85176471, 1.        , 1.        , 1.        , 0.8989899 ])"
        ]
       },
       "execution_count": 144,
       "metadata": {},
       "output_type": "execute_result"
      }
     ],
     "source": [
      "\n",
      "X = df_real.dropna()\n",
      "y = np.where(df_shuffled.index <= 0, \"ITI\", \"CS\")\n",
      "\n",
      "pipe = make_pipeline(\n",
      "    PCA(2), \n",
      "    LogisticRegression()\n",
      "    )\n",
      "real_scores = cross_val_score(pipe, X=X, y=y, scoring=\"f1_macro\")\n",
      "real_scores"
     ]
    },
    {
     "cell_type": "code",
     "execution_count": 145,
     "metadata": {},
     "outputs": [
      {
       "data": {
        "image/png": "[encoded data removed]",
        "text/plain": [
         "<Figure size 432x288 with 1 Axes>"
        ]
       },
       "metadata": {},
       "output_type": "display_data"
      }
     ],
     "source": [
      "to_plot = pd.DataFrame(PCA(10).fit_transform(X)[:, :2], columns=[\"PC1\", \"PC2\"]).assign(color=X.index)\n",
      "to_plot[\"y\"] = y\n",
      "sns.lineplot(x=\"PC1\", y=\"PC2\", hue=\"y\", data=to_plot, ci=None)\n",
      "plt.savefig(\"CS classification tradjectory.svg\")"
     ]
    },
    {
     "cell_type": "code",
     "execution_count": 116,
     "metadata": {},
     "outputs": [
      {
       "data": {
        "text/plain": [
         "<Figure size 432x288 with 0 Axes>"
        ]
       },
       "metadata": {},
       "output_type": "display_data"
      }
     ],
     "source": [
      "X = df_shuffled.dropna()\n",
      "y = np.where(df_shuffled.index <= 0, \"ITI\", \"CS\")\n",
      "\n",
      "pipe = make_pipeline(PCA(2), LogisticRegression())\n",
      "cross_val_score(pipe, X=X, y=y, scoring=\"f1_macro\")"
     ]
    },
    {
     "cell_type": "code",
     "execution_count": 117,
     "metadata": {},
     "outputs": [
      {
       "data": {
        "image/png": "[encoded data removed]",
        "text/plain": [
         "<Figure size 432x288 with 1 Axes>"
        ]
       },
       "metadata": {},
       "output_type": "display_data"
      }
     ],
     "source": [
      "import seaborn as sns\n",
      "\n",
      "to_plot = pd.DataFrame(PCA(10).fit_transform(X)[:, :2], columns=[\"PC1\", \"PC2\"]).assign(color=X.index)\n",
      "to_plot[\"y\"] = y\n",
      "sns.lineplot(x=\"PC1\", y=\"PC2\", hue=\"y\", data=to_plot, ci=None)\n",
      "plt.savefig(\"Shuffled classification tradjectory.svg\")"
     ]
    },
    {
     "cell_type": "code",
     "execution_count": 120,
     "metadata": {},
     "outputs": [],
     "source": [
      "shuffled_scores = []\n",
      "for i in range(10):\n",
      "    df_shuffled = df.sample(frac=1).copy()\n",
      "    df_shuffled.index = df.index\n",
      "    df_shuffled = prep_data(df_shuffled, cs_starts)\n",
      "    X = df_shuffled.dropna()\n",
      "    y = np.where(df_shuffled.index <= 0, \"ITI\", \"CS\")\n",
      "\n",
      "    pipe = make_pipeline(PCA(2), LogisticRegression())\n",
      "    scores=cross_val_score(pipe, X=X, y=y, scoring=\"f1_macro\")\n",
      "    shuffled_scores.append(scores)"
     ]
    },
    {
     "cell_type": "code",
     "execution_count": 143,
     "metadata": {},
     "outputs": [
      {
       "data": {
        "image/png": "[encoded data removed]",
        "text/plain": [
         "<Figure size 144x216 with 1 Axes>"
        ]
       },
       "metadata": {},
       "output_type": "display_data"
      }
     ],
     "source": [
      "reps = np.array([x.mean() for x in shuffled_scores])\n",
      "obs = real_scores.mean()\n",
      "(reps > obs).mean()\n",
      "plt.figure(figsize=(2, 3))\n",
      "plt.bar([\"Observed\", \"Shuffled\"], [obs, reps.mean()], color=\"black\", width=0.5)\n",
      "plt.ylabel(\"F1 Score\")\n",
      "plt.ylim(0, 1)\n",
      "plt.savefig(\"CS Decoding result.svg\")"
     ]
    },
    {
     "cell_type": "code",
     "execution_count": 133,
     "metadata": {},
     "outputs": [
      {
       "data": {
        "text/plain": [
         "array([0.46514939, 0.39325829, 0.44477444, 0.58553984, 0.60662157,\n",
         "       0.4402997 , 0.58437748, 0.52039717, 0.42254895, 0.46384218])"
        ]
       },
       "execution_count": 133,
       "metadata": {},
       "output_type": "execute_result"
      }
     ],
     "source": [
      "reps"
     ]
    },
    {
     "cell_type": "code",
     "execution_count": 27,
     "metadata": {},
     "outputs": [],
     "source": [
      "from sklearn.decomposition import PCA\n",
      "\n",
      "mod = PCA().fit(dfp)\n",
      "num_pcs = np.sum(np.cumsum(mod.explained_variance_ratio_) <= 0.9)\n",
      "\n",
      "X = PCA(num_pcs).fit_transform(dfp)\n"
     ]
    },
    {
     "cell_type": "code",
     "execution_count": 121,
     "metadata": {},
     "outputs": [
      {
       "data": {
        "text/html": [
         "<div>\n",
         "<style scoped>\n",
         "    .dataframe tbody tr th:only-of-type {\n",
         "        vertical-align: middle;\n",
         "    }\n",
         "\n",
         "    .dataframe tbody tr th {\n",
         "        vertical-align: top;\n",
         "    }\n",
         "\n",
         "    .dataframe thead th {\n",
         "        text-align: right;\n",
         "    }\n",
         "</style>\n",
         "<table border=\"1\" class=\"dataframe\">\n",
         "  <thead>\n",
         "    <tr style=\"text-align: right;\">\n",
         "      <th>new_id</th>\n",
         "      <th>0</th>\n",
         "      <th>1</th>\n",
         "      <th>10</th>\n",
         "      <th>1000</th>\n",
         "      <th>1003</th>\n",
         "      <th>1004</th>\n",
         "      <th>1005</th>\n",
         "      <th>1006</th>\n",
         "      <th>1008</th>\n",
         "      <th>1009</th>\n",
         "      <th>...</th>\n",
         "      <th>974</th>\n",
         "      <th>977</th>\n",
         "      <th>979</th>\n",
         "      <th>984</th>\n",
         "      <th>986</th>\n",
         "      <th>988</th>\n",
         "      <th>989</th>\n",
         "      <th>994</th>\n",
         "      <th>997</th>\n",
         "      <th>999</th>\n",
         "    </tr>\n",
         "    <tr>\n",
         "      <th>aligned</th>\n",
         "      <th></th>\n",
         "      <th></th>\n",
         "      <th></th>\n",
         "      <th></th>\n",
         "      <th></th>\n",
         "      <th></th>\n",
         "      <th></th>\n",
         "      <th></th>\n",
         "      <th></th>\n",
         "      <th></th>\n",
         "      <th></th>\n",
         "      <th></th>\n",
         "      <th></th>\n",
         "      <th></th>\n",
         "      <th></th>\n",
         "      <th></th>\n",
         "      <th></th>\n",
         "      <th></th>\n",
         "      <th></th>\n",
         "      <th></th>\n",
         "      <th></th>\n",
         "    </tr>\n",
         "  </thead>\n",
         "  <tbody>\n",
         "    <tr>\n",
         "      <th>-5.0</th>\n",
         "      <td>-0.178139</td>\n",
         "      <td>0.170349</td>\n",
         "      <td>-0.591137</td>\n",
         "      <td>-0.544893</td>\n",
         "      <td>0.529204</td>\n",
         "      <td>2.693560</td>\n",
         "      <td>-2.120775</td>\n",
         "      <td>1.329219</td>\n",
         "      <td>2.009390</td>\n",
         "      <td>-0.702436</td>\n",
         "      <td>...</td>\n",
         "      <td>-0.600328</td>\n",
         "      <td>-0.007527</td>\n",
         "      <td>-1.161548</td>\n",
         "      <td>-0.950762</td>\n",
         "      <td>0.300943</td>\n",
         "      <td>0.168930</td>\n",
         "      <td>-0.845285</td>\n",
         "      <td>0.676029</td>\n",
         "      <td>0.341195</td>\n",
         "      <td>-0.224920</td>\n",
         "    </tr>\n",
         "    <tr>\n",
         "      <th>-4.9</th>\n",
         "      <td>1.163870</td>\n",
         "      <td>-0.458473</td>\n",
         "      <td>-0.822439</td>\n",
         "      <td>-1.200632</td>\n",
         "      <td>1.394031</td>\n",
         "      <td>0.314084</td>\n",
         "      <td>-0.837723</td>\n",
         "      <td>-0.518350</td>\n",
         "      <td>0.389389</td>\n",
         "      <td>0.314209</td>\n",
         "      <td>...</td>\n",
         "      <td>-0.678232</td>\n",
         "      <td>-0.729403</td>\n",
         "      <td>1.125281</td>\n",
         "      <td>-0.692614</td>\n",
         "      <td>-1.127705</td>\n",
         "      <td>1.880388</td>\n",
         "      <td>-0.777029</td>\n",
         "      <td>-0.188237</td>\n",
         "      <td>-0.214337</td>\n",
         "      <td>1.313716</td>\n",
         "    </tr>\n",
         "    <tr>\n",
         "      <th>-4.8</th>\n",
         "      <td>0.137410</td>\n",
         "      <td>-1.046497</td>\n",
         "      <td>0.515403</td>\n",
         "      <td>-0.683387</td>\n",
         "      <td>1.862329</td>\n",
         "      <td>0.992400</td>\n",
         "      <td>1.107891</td>\n",
         "      <td>-0.631396</td>\n",
         "      <td>-0.428604</td>\n",
         "      <td>0.782432</td>\n",
         "      <td>...</td>\n",
         "      <td>0.894310</td>\n",
         "      <td>2.384938</td>\n",
         "      <td>0.458855</td>\n",
         "      <td>1.133605</td>\n",
         "      <td>0.182520</td>\n",
         "      <td>2.293653</td>\n",
         "      <td>-0.930173</td>\n",
         "      <td>0.715744</td>\n",
         "      <td>-0.928672</td>\n",
         "      <td>-1.451983</td>\n",
         "    </tr>\n",
         "    <tr>\n",
         "      <th>-4.7</th>\n",
         "      <td>0.463954</td>\n",
         "      <td>0.207772</td>\n",
         "      <td>-0.579294</td>\n",
         "      <td>0.189018</td>\n",
         "      <td>-0.724749</td>\n",
         "      <td>0.312096</td>\n",
         "      <td>-1.026221</td>\n",
         "      <td>-0.888692</td>\n",
         "      <td>-0.290072</td>\n",
         "      <td>0.997017</td>\n",
         "      <td>...</td>\n",
         "      <td>0.074085</td>\n",
         "      <td>0.250130</td>\n",
         "      <td>-1.613901</td>\n",
         "      <td>0.362859</td>\n",
         "      <td>-0.051531</td>\n",
         "      <td>-0.406634</td>\n",
         "      <td>-0.824211</td>\n",
         "      <td>1.024782</td>\n",
         "      <td>-0.280564</td>\n",
         "      <td>-0.166983</td>\n",
         "    </tr>\n",
         "    <tr>\n",
         "      <th>-4.6</th>\n",
         "      <td>-0.462287</td>\n",
         "      <td>2.194010</td>\n",
         "      <td>-0.717469</td>\n",
         "      <td>-0.952682</td>\n",
         "      <td>0.277348</td>\n",
         "      <td>0.882356</td>\n",
         "      <td>-0.956396</td>\n",
         "      <td>-1.821839</td>\n",
         "      <td>-0.519654</td>\n",
         "      <td>0.545195</td>\n",
         "      <td>...</td>\n",
         "      <td>-1.426545</td>\n",
         "      <td>0.373563</td>\n",
         "      <td>-0.946585</td>\n",
         "      <td>1.042694</td>\n",
         "      <td>1.502690</td>\n",
         "      <td>0.107091</td>\n",
         "      <td>1.004947</td>\n",
         "      <td>-0.383949</td>\n",
         "      <td>-0.479272</td>\n",
         "      <td>-2.559717</td>\n",
         "    </tr>\n",
         "    <tr>\n",
         "      <th>...</th>\n",
         "      <td>...</td>\n",
         "      <td>...</td>\n",
         "      <td>...</td>\n",
         "      <td>...</td>\n",
         "      <td>...</td>\n",
         "      <td>...</td>\n",
         "      <td>...</td>\n",
         "      <td>...</td>\n",
         "      <td>...</td>\n",
         "      <td>...</td>\n",
         "      <td>...</td>\n",
         "      <td>...</td>\n",
         "      <td>...</td>\n",
         "      <td>...</td>\n",
         "      <td>...</td>\n",
         "      <td>...</td>\n",
         "      <td>...</td>\n",
         "      <td>...</td>\n",
         "      <td>...</td>\n",
         "      <td>...</td>\n",
         "      <td>...</td>\n",
         "    </tr>\n",
         "    <tr>\n",
         "      <th>4.6</th>\n",
         "      <td>-0.771945</td>\n",
         "      <td>0.044722</td>\n",
         "      <td>0.501349</td>\n",
         "      <td>0.962280</td>\n",
         "      <td>4.594505</td>\n",
         "      <td>-0.668383</td>\n",
         "      <td>-1.065671</td>\n",
         "      <td>0.078960</td>\n",
         "      <td>0.196624</td>\n",
         "      <td>0.387198</td>\n",
         "      <td>...</td>\n",
         "      <td>0.343720</td>\n",
         "      <td>0.595483</td>\n",
         "      <td>-0.864167</td>\n",
         "      <td>-0.881111</td>\n",
         "      <td>-0.307583</td>\n",
         "      <td>0.453130</td>\n",
         "      <td>0.448535</td>\n",
         "      <td>-0.551271</td>\n",
         "      <td>-0.471718</td>\n",
         "      <td>-1.202468</td>\n",
         "    </tr>\n",
         "    <tr>\n",
         "      <th>4.7</th>\n",
         "      <td>1.610018</td>\n",
         "      <td>-0.184567</td>\n",
         "      <td>-0.572105</td>\n",
         "      <td>-0.481983</td>\n",
         "      <td>1.652591</td>\n",
         "      <td>0.007242</td>\n",
         "      <td>-1.047311</td>\n",
         "      <td>-1.797787</td>\n",
         "      <td>2.607285</td>\n",
         "      <td>-0.471469</td>\n",
         "      <td>...</td>\n",
         "      <td>-0.157427</td>\n",
         "      <td>-1.343177</td>\n",
         "      <td>-1.022112</td>\n",
         "      <td>0.079090</td>\n",
         "      <td>1.366309</td>\n",
         "      <td>-0.807837</td>\n",
         "      <td>-0.852551</td>\n",
         "      <td>-0.325437</td>\n",
         "      <td>0.881803</td>\n",
         "      <td>-0.899963</td>\n",
         "    </tr>\n",
         "    <tr>\n",
         "      <th>4.8</th>\n",
         "      <td>0.258089</td>\n",
         "      <td>-0.552794</td>\n",
         "      <td>-0.754070</td>\n",
         "      <td>-0.422865</td>\n",
         "      <td>0.636762</td>\n",
         "      <td>-0.358177</td>\n",
         "      <td>-0.599809</td>\n",
         "      <td>1.631993</td>\n",
         "      <td>0.564394</td>\n",
         "      <td>-0.612552</td>\n",
         "      <td>...</td>\n",
         "      <td>-1.172688</td>\n",
         "      <td>-1.471752</td>\n",
         "      <td>-0.334379</td>\n",
         "      <td>-1.905919</td>\n",
         "      <td>-0.063806</td>\n",
         "      <td>-0.910895</td>\n",
         "      <td>-0.706101</td>\n",
         "      <td>-0.001497</td>\n",
         "      <td>0.641102</td>\n",
         "      <td>1.996807</td>\n",
         "    </tr>\n",
         "    <tr>\n",
         "      <th>4.9</th>\n",
         "      <td>-0.569960</td>\n",
         "      <td>-0.701740</td>\n",
         "      <td>1.071909</td>\n",
         "      <td>1.092283</td>\n",
         "      <td>-0.172856</td>\n",
         "      <td>-1.238513</td>\n",
         "      <td>-0.569506</td>\n",
         "      <td>0.634247</td>\n",
         "      <td>-0.207033</td>\n",
         "      <td>-1.505071</td>\n",
         "      <td>...</td>\n",
         "      <td>3.043927</td>\n",
         "      <td>-0.600521</td>\n",
         "      <td>-0.508654</td>\n",
         "      <td>0.457005</td>\n",
         "      <td>-1.884927</td>\n",
         "      <td>-0.195365</td>\n",
         "      <td>1.551388</td>\n",
         "      <td>1.139244</td>\n",
         "      <td>-0.898917</td>\n",
         "      <td>0.156780</td>\n",
         "    </tr>\n",
         "    <tr>\n",
         "      <th>5.0</th>\n",
         "      <td>0.849945</td>\n",
         "      <td>-0.239371</td>\n",
         "      <td>0.559140</td>\n",
         "      <td>0.582723</td>\n",
         "      <td>0.273582</td>\n",
         "      <td>-2.119139</td>\n",
         "      <td>0.473163</td>\n",
         "      <td>1.728321</td>\n",
         "      <td>1.703397</td>\n",
         "      <td>-1.394769</td>\n",
         "      <td>...</td>\n",
         "      <td>0.203082</td>\n",
         "      <td>0.303758</td>\n",
         "      <td>0.216124</td>\n",
         "      <td>-0.450840</td>\n",
         "      <td>-2.776173</td>\n",
         "      <td>-0.807845</td>\n",
         "      <td>1.159153</td>\n",
         "      <td>-1.533266</td>\n",
         "      <td>1.225259</td>\n",
         "      <td>1.990722</td>\n",
         "    </tr>\n",
         "  </tbody>\n",
         "</table>\n",
         "<p>101 rows × 1089 columns</p>\n",
         "</div>"
        ],
        "text/plain": [
         "new_id          0         1        10      1000      1003      1004      1005  \\\n",
         "aligned                                                                         \n",
         "-5.0    -0.178139  0.170349 -0.591137 -0.544893  0.529204  2.693560 -2.120775   \n",
         "-4.9     1.163870 -0.458473 -0.822439 -1.200632  1.394031  0.314084 -0.837723   \n",
         "-4.8     0.137410 -1.046497  0.515403 -0.683387  1.862329  0.992400  1.107891   \n",
         "-4.7     0.463954  0.207772 -0.579294  0.189018 -0.724749  0.312096 -1.026221   \n",
         "-4.6    -0.462287  2.194010 -0.717469 -0.952682  0.277348  0.882356 -0.956396   \n",
         "...           ...       ...       ...       ...       ...       ...       ...   \n",
         " 4.6    -0.771945  0.044722  0.501349  0.962280  4.594505 -0.668383 -1.065671   \n",
         " 4.7     1.610018 -0.184567 -0.572105 -0.481983  1.652591  0.007242 -1.047311   \n",
         " 4.8     0.258089 -0.552794 -0.754070 -0.422865  0.636762 -0.358177 -0.599809   \n",
         " 4.9    -0.569960 -0.701740  1.071909  1.092283 -0.172856 -1.238513 -0.569506   \n",
         " 5.0     0.849945 -0.239371  0.559140  0.582723  0.273582 -2.119139  0.473163   \n",
         "\n",
         "new_id       1006      1008      1009  ...       974       977       979  \\\n",
         "aligned                                ...                                 \n",
         "-5.0     1.329219  2.009390 -0.702436  ... -0.600328 -0.007527 -1.161548   \n",
         "-4.9    -0.518350  0.389389  0.314209  ... -0.678232 -0.729403  1.125281   \n",
         "-4.8    -0.631396 -0.428604  0.782432  ...  0.894310  2.384938  0.458855   \n",
         "-4.7    -0.888692 -0.290072  0.997017  ...  0.074085  0.250130 -1.613901   \n",
         "-4.6    -1.821839 -0.519654  0.545195  ... -1.426545  0.373563 -0.946585   \n",
         "...           ...       ...       ...  ...       ...       ...       ...   \n",
         " 4.6     0.078960  0.196624  0.387198  ...  0.343720  0.595483 -0.864167   \n",
         " 4.7    -1.797787  2.607285 -0.471469  ... -0.157427 -1.343177 -1.022112   \n",
         " 4.8     1.631993  0.564394 -0.612552  ... -1.172688 -1.471752 -0.334379   \n",
         " 4.9     0.634247 -0.207033 -1.505071  ...  3.043927 -0.600521 -0.508654   \n",
         " 5.0     1.728321  1.703397 -1.394769  ...  0.203082  0.303758  0.216124   \n",
         "\n",
         "new_id        984       986       988       989       994       997       999  \n",
         "aligned                                                                        \n",
         "-5.0    -0.950762  0.300943  0.168930 -0.845285  0.676029  0.341195 -0.224920  \n",
         "-4.9    -0.692614 -1.127705  1.880388 -0.777029 -0.188237 -0.214337  1.313716  \n",
         "-4.8     1.133605  0.182520  2.293653 -0.930173  0.715744 -0.928672 -1.451983  \n",
         "-4.7     0.362859 -0.051531 -0.406634 -0.824211  1.024782 -0.280564 -0.166983  \n",
         "-4.6     1.042694  1.502690  0.107091  1.004947 -0.383949 -0.479272 -2.559717  \n",
         "...           ...       ...       ...       ...       ...       ...       ...  \n",
         " 4.6    -0.881111 -0.307583  0.453130  0.448535 -0.551271 -0.471718 -1.202468  \n",
         " 4.7     0.079090  1.366309 -0.807837 -0.852551 -0.325437  0.881803 -0.899963  \n",
         " 4.8    -1.905919 -0.063806 -0.910895 -0.706101 -0.001497  0.641102  1.996807  \n",
         " 4.9     0.457005 -1.884927 -0.195365  1.551388  1.139244 -0.898917  0.156780  \n",
         " 5.0    -0.450840 -2.776173 -0.807845  1.159153 -1.533266  1.225259  1.990722  \n",
         "\n",
         "[101 rows x 1089 columns]"
        ]
       },
       "execution_count": 121,
       "metadata": {},
       "output_type": "execute_result"
      }
     ],
     "source": [
      "X"
     ]
    },
    {
     "cell_type": "code",
     "execution_count": 17,
     "metadata": {},
     "outputs": [
      {
       "data": {
        "text/plain": [
         "13"
        ]
       },
       "execution_count": 17,
       "metadata": {},
       "output_type": "execute_result"
      }
     ],
     "source": [
      "np.sum(np.cumsum(mod.explained_variance_ratio_) <= 0.9)"
     ]
    },
    {
     "cell_type": "code",
     "execution_count": null,
     "metadata": {},
     "outputs": [],
     "source": []
    }
   ],
   "metadata": {
    "interpreter": {
     "hash": "3a8e119cf53ab9b37a51e903f8a5ac94bb56fa8ae994ac5c8f462adfdd95f38b"
    },
    "kernelspec": {
     "display_name": "Python 3.7.11 64-bit ('observational-fear': conda)",
     "language": "python",
     "name": "python3"
    },
    "language_info": {
     "codemirror_mode": {
      "name": "ipython",
      "version": 3
     },
     "file_extension": ".py",
     "mimetype": "text/x-python",
     "name": "python",
     "nbconvert_exporter": "python",
     "pygments_lexer": "ipython3",
     "version": "3.7.11"
    },
    "orig_nbformat": 4
   },
   "nbformat": 4,
   "nbformat_minor": 2
  }