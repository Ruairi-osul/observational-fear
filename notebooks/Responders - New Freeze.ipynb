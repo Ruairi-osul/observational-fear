{
 "cells": [
  {
   "cell_type": "code",
   "execution_count": 1,
   "metadata": {},
   "outputs": [],
   "source": [
    "import observational_fear.load as load\n",
    "from observational_fear.events import get_freeze_starts\n",
    "from neurobox.wide_transforms import resample\n",
    "from neurobox.compose import Pipeline\n",
    "from observational_fear.nbox_transforms import (\n",
    "    align_to_data_by,\n",
    "    summarize_prepost,\n",
    "    wilcoxon_by_cell\n",
    ")\n",
    "from observational_fear.stats import auc\n",
    "from pathlib import Path\n",
    "import warnings\n",
    "warnings.filterwarnings(\"ignore\")\n",
    "\n",
    "\n",
    "\n",
    "DATA_DIR = Path(r\"F:\\OFL\\one-p experiment\\data\")\n",
    "FIG_DIR = Path(r\"C:\\Users\\roryl\\repos\\observational-fear\\figs\")"
   ]
  },
  {
   "cell_type": "code",
   "execution_count": 6,
   "metadata": {},
   "outputs": [],
   "source": [
    "def align_to_freeze(\n",
    "    data_dir, session, t_before, t_after, start_stop, role=\"obs\", rotate=False, min_freeze_diff=11\n",
    "):\n",
    "    df_cells = load.load_cells(data_dir).rename(columns={\"mouse\": \"mouse_name\"})\n",
    "    df_cells[\"new_id\"] = df_cells[\"new_id\"].astype(\"str\")\n",
    "    if start_stop == \"start\":\n",
    "        freeze_getter = load.load_freeze_starts\n",
    "        freeze_col = \"freeze_start\"\n",
    "    elif start_stop == \"stop\":\n",
    "        freeze_getter = load.load_freeze_stops\n",
    "        freeze_col = \"freeze_stop\"\n",
    "    events = freeze_getter(data_dir, session, role=role, min_diff=min_freeze_diff)\n",
    "    traces = load.load_traces_long(data_dir, session, rotate=rotate).merge(df_cells)\n",
    "    df_aligned = align_to_data_by(\n",
    "        df_data=traces,\n",
    "        df_events=events,\n",
    "        df_data_time_col=\"time\",\n",
    "        df_data_cell_col=\"new_id\",\n",
    "        df_data_value_col=\"value\",\n",
    "        time_before_event=t_before,\n",
    "        time_after_event=t_after,\n",
    "        df_data_group_col=\"mouse_name\",\n",
    "        df_events_timestamp_col=freeze_col,\n",
    "        df_events_group_colname=\"mouse_name\",\n",
    "        precision=1,\n",
    "    )\n",
    "    return df_aligned\n",
    "\n",
    "\n",
    "def freeze_wilcoxon_prepost(\n",
    "    data_dir, session, t_before, t_after, start_stop, role=\"obs\", rotate=False, min_freeze_diff=11\n",
    "):\n",
    "    df_aligned = align_to_freeze(\n",
    "        data_dir,\n",
    "        session,\n",
    "        t_before,\n",
    "        t_after,\n",
    "        start_stop=start_stop,\n",
    "        role=role,\n",
    "        rotate=rotate,\n",
    "        min_freeze_diff=min_freeze_diff,\n",
    "    )\n",
    "    df_prepost = summarize_prepost(\n",
    "        df_aligned,\n",
    "        trial_col=\"event\",\n",
    "        summary_func=auc,\n",
    "        cell_col=\"new_id\",\n",
    "        value_col=\"value\",\n",
    "    )\n",
    "    df_res = wilcoxon_by_cell(df_prepost, cell_col=\"new_id\")\n",
    "    return df_res\n",
    "\n"
   ]
  },
  {
   "cell_type": "code",
   "execution_count": 7,
   "metadata": {},
   "outputs": [],
   "source": [
    "df_res_start = freeze_wilcoxon_prepost(DATA_DIR, \"day2\", start_stop=\"start\", t_before=5, t_after=5)\n",
    "df_res_stop = freeze_wilcoxon_prepost(DATA_DIR, \"day2\", start_stop=\"stop\", t_before=5, t_after=5)"
   ]
  },
  {
   "cell_type": "code",
   "execution_count": 11,
   "metadata": {},
   "outputs": [],
   "source": [
    "df_res_start = freeze_wilcoxon_prepost(DATA_DIR, \"day2\", start_stop=\"start\", t_before=5, t_after=5, rotate=True)\n"
   ]
  },
  {
   "cell_type": "code",
   "execution_count": 12,
   "metadata": {},
   "outputs": [
    {
     "data": {
      "text/plain": [
       "0.0"
      ]
     },
     "execution_count": 12,
     "metadata": {},
     "output_type": "execute_result"
    }
   ],
   "source": [
    "(df_res_start.p < 0.05).mean()"
   ]
  },
  {
   "cell_type": "code",
   "execution_count": null,
   "metadata": {},
   "outputs": [],
   "source": []
  }
 ],
 "metadata": {
  "interpreter": {
   "hash": "3a8e119cf53ab9b37a51e903f8a5ac94bb56fa8ae994ac5c8f462adfdd95f38b"
  },
  "kernelspec": {
   "display_name": "Python 3.7.11 ('observational-fear')",
   "language": "python",
   "name": "python3"
  },
  "language_info": {
   "codemirror_mode": {
    "name": "ipython",
    "version": 3
   },
   "file_extension": ".py",
   "mimetype": "text/x-python",
   "name": "python",
   "nbconvert_exporter": "python",
   "pygments_lexer": "ipython3",
   "version": "3.7.11"
  },
  "orig_nbformat": 4
 },
 "nbformat": 4,
 "nbformat_minor": 2
}
