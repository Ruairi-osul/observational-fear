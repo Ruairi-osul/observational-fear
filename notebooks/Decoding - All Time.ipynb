{
 "cells": [
  {
   "cell_type": "code",
   "execution_count": 1,
   "metadata": {},
   "outputs": [],
   "source": [
    "import pandas as pd\n",
    "import numpy as np\n",
    "import matplotlib.pyplot as plt\n",
    "import seaborn as sns\n",
    "from pathlib import Path\n",
    "from tqdm.notebook import tqdm\n",
    "\n",
    "from typing import Dict\n",
    "\n",
    "from observational_fear import load\n",
    "from observational_fear.events import get_block_starts\n",
    "from neurobox.wide_transforms import resample\n",
    "from binit.bin import which_bin\n",
    "\n",
    "\n",
    "from sklearn.preprocessing import StandardScaler, LabelEncoder\n",
    "from sklearn.pipeline import make_pipeline\n",
    "from sklearn.linear_model import LogisticRegression\n",
    "from sklearn.model_selection import cross_val_score, KFold\n",
    "from sklearn.naive_bayes import GaussianNB\n",
    "from sklearn.base import clone\n",
    "\n"
   ]
  },
  {
   "cell_type": "code",
   "execution_count": 2,
   "metadata": {},
   "outputs": [],
   "source": [
    "DATA_DIR = Path(r\"F:\\OFL\\one-p experiment\\data\")\n",
    "FIG_DIR = Path(r\"C:\\Users\\roryl\\repos\\observational-fear\\figs\")"
   ]
  },
  {
   "cell_type": "code",
   "execution_count": 3,
   "metadata": {},
   "outputs": [],
   "source": [
    "def load_traces_wide_by_mouse(\n",
    "    data_dir: Path, session: str, sampling_interval: str = \"100ms\", coreg_only=False\n",
    ") -> Dict[str, pd.DataFrame]:\n",
    "    cells = (\n",
    "        load.load_cells(data_dir)\n",
    "        .assign(new_id=lambda x: x.new_id.astype(str))\n",
    "        .groupby(\"mouse\")[\"new_id\"]\n",
    "        .unique()\n",
    "        .to_dict()\n",
    "    )\n",
    "    if coreg_only:\n",
    "        coreg_cells =  load.load_block_coreg_cells(data_dir=data_dir)\n",
    "        is_coreg = lambda x: x in coreg_cells\n",
    "    else:\n",
    "        is_coreg = lambda x: True\n",
    "    traces = (\n",
    "        load.load_traces(data_dir=data_dir, session=session)\n",
    "        .set_index(\"time\")\n",
    "        .pipe(resample, new_interval=sampling_interval)\n",
    "    )\n",
    "    return {\n",
    "        mouse: traces[[c for c in traces.columns if c in ids and is_coreg(c)]]\n",
    "        for mouse, ids in cells.items()\n",
    "    }\n",
    "\n",
    "\n",
    "\n",
    "\n",
    "\n",
    "def load_freeze_status_by_mouse(\n",
    "    data_dir: Path, session: str, sampling_interval: str = \"100ms\", role: str = \"obs\"\n",
    ") -> pd.DataFrame:\n",
    "    df_behaviour = load.load_behaviour(data_dir=data_dir, session=session)\n",
    "    if session == \"day2\":\n",
    "        df_behaviour = df_behaviour.loc[lambda x: x.role == role]\n",
    "    df_freeze = (\n",
    "        df_behaviour[[\"time\", \"was_freezing\", \"mouse_name\"]]\n",
    "        .set_index(\"time\")\n",
    "        .pipe(\n",
    "            resample,\n",
    "            new_interval=sampling_interval,\n",
    "            floor=True,\n",
    "            grouping_cols=\"mouse_name\",\n",
    "        )\n",
    "        .round()\n",
    "        .reset_index()\n",
    "        .pivot(index=\"time\", columns=\"mouse_name\", values=\"was_freezing\")\n",
    "    )\n",
    "    return df_freeze\n",
    "\n",
    "def load_mouse_names(data_dir):\n",
    "    return load.load_cells(data_dir)[\"mouse\"].unique()\n",
    "\n",
    "\n",
    "def rotate_traces(df):\n",
    "    rotated_vals = np.roll(df.values, np.random.randint(0, len(df) - 1), axis=0)\n",
    "    return pd.DataFrame(rotated_vals, columns=df.columns, index=df.index)\n",
    "\n",
    "\n",
    "def all_time_decoding(traces_by_mouse: Dict[str, pd.DataFrame], events_by_mouse: Dict[str, pd.DataFrame],pipe, n_reps=75, cv=None):\n",
    "    if cv is None:\n",
    "        cv=KFold(shuffle=False, n_splits=10)\n",
    "    res = {}\n",
    "    reps = {}\n",
    "    mice = list(traces_by_mouse.keys())\n",
    "\n",
    "    for i, mouse in enumerate(mice):\n",
    "        if i == 0:\n",
    "            le = LabelEncoder().fit(events_by_mouse[mouse])\n",
    "        try:\n",
    "            traces = traces_by_mouse[mouse]\n",
    "            freeze = le.transform(events_by_mouse[mouse])\n",
    "        except KeyError:\n",
    "            print(f\"Data for {mouse} not found\")\n",
    "            continue\n",
    "        res[mouse] = cross_val_score(clone(pipe), traces.values, freeze, cv=cv, scoring=\"f1_macro\").mean()\n",
    "        rep_vals = []\n",
    "        for _ in tqdm(range(n_reps)):\n",
    "            traces_rot = rotate_traces(traces.copy())\n",
    "            rep_vals.append( cross_val_score(clone(pipe), traces_rot.values, freeze, cv=cv, scoring=\"f1_macro\").mean())\n",
    "        reps[mouse] = rep_vals\n",
    "\n",
    "    df_res = pd.Series(res)\n",
    "    df_reps = pd.DataFrame(reps)\n",
    "    return df_res, df_reps"
   ]
  },
  {
   "cell_type": "code",
   "execution_count": 4,
   "metadata": {},
   "outputs": [],
   "source": [
    "def load_block_status_by_mouse(data_dir: Path, session: str, block_name: str = \"US\", t_before: float=0, t_after: float =5, sampling_interval: str = \"100ms\"):\n",
    "    mice = load_mouse_names(data_dir)\n",
    "    starts = get_block_starts(session=session, block_name=block_name)\n",
    "    traces = (\n",
    "        load.load_traces(data_dir=data_dir, session=session).iloc[:, :3]\n",
    "        .set_index(\"time\")\n",
    "        .pipe(resample, new_interval=sampling_interval)\n",
    "    )\n",
    "    starts = which_bin(traces.index.values, starts, time_before=t_before, time_after=t_after)\n",
    "\n",
    "    starts = np.where(np.isnan(starts), \"Not Block\", \"Block\")\n",
    "    return {mouse: pd.Series(index=traces.index, data=starts) for mouse in mice}\n",
    "\n",
    "\n",
    "def load_traces_wide_by_mouse_two_session(\n",
    "    data_dir: Path, session1: str, session2: str, sampling_interval: str = \"100ms\", coreg_only=False\n",
    ") -> Dict[str, pd.DataFrame]:\n",
    "    traces_session1 = load_traces_wide_by_mouse(data_dir, session=session1, sampling_interval=sampling_interval, coreg_only=coreg_only)\n",
    "    traces_session2 = load_traces_wide_by_mouse(data_dir, session=session2, sampling_interval=sampling_interval, coreg_only=coreg_only)\n",
    "\n",
    "    out = {}\n",
    "    for mouse in traces_session1.keys():\n",
    "        t1 = pd.concat({session1: traces_session1[mouse]}, names=['session'])\n",
    "        t2 = pd.concat({session2: traces_session2[mouse]}, names=['session'])\n",
    "        # t1 = traces_session1[mouse]\n",
    "        # t2 = traces_session2[mouse]\n",
    "        out[mouse] = pd.concat([t1, t2])\n",
    "    return out\n",
    "\n",
    "\n",
    "\n",
    "def load_block_status_by_mouse_two_sessions(\n",
    "        data_dir: Path, session1: str, session2: str, block_name: str = \"US\", t_before: float=0, t_after: float =5, sampling_interval: str = \"100ms\"):\n",
    "    block_session1 = load_block_status_by_mouse(data_dir, session=session1, block_name=block_name, t_before=t_before, t_after=t_after, sampling_interval=sampling_interval)\n",
    "    block_session2 = load_block_status_by_mouse(data_dir, session=session2, block_name=block_name, t_before=t_before, t_after=t_after, sampling_interval=sampling_interval)\n",
    "\n",
    "    out = {}\n",
    "    for mouse in block_session1.keys():\n",
    "        b1 = block_session1[mouse]\n",
    "        b1_vals = np.where(b1 == \"Block\", f\"{block_name} {session1}\", session1)\n",
    "        b1 = pd.DataFrame({\"block\": b1_vals}, index=b1.index)\n",
    "        b1 = pd.concat({session1: b1}, names=['session'])\n",
    "        \n",
    "        b2 = block_session2[mouse]\n",
    "        b2_vals = np.where(b2 == \"Block\", f\"{block_name} {session2}\", session2)\n",
    "        b2 = pd.DataFrame({\"block\": b2_vals}, index=b2.index)\n",
    "        b2 = pd.concat({session2: b2}, names=['session'])\n",
    "        out[mouse] = pd.concat((b1, b2))\n",
    "    return out\n",
    "\n",
    "\n",
    "\n",
    "def plot_results(df_reps, df_res, name):\n",
    "    df_reps = df_reps.mean().to_frame(name=\"Shuffles\")\n",
    "    df_obs = df_res.to_frame(name=\"Observed\")\n",
    "\n",
    "    df = pd.concat([df_reps, df_obs], axis=1)\n",
    "    df.melt().pipe((sns.pointplot, \"data\"), x=\"variable\", y=\"value\", hue=\"variable\")\n",
    "    plt.ylabel(\"F1 Score\")\n",
    "    plt.title(f\"All Time {name} Decoding Performance\")\n",
    "    ax = plt.gca()\n",
    "    return ax\n",
    "\n",
    "def save_results(df_reps, df_res, name, outdir):\n",
    "    df_res.to_csv(outdir / f\"All time decoding - {name} - OBSERVED.csv\", )\n",
    "    df_reps.to_csv(outdir / f\"All time decoding - {name} - ROTATED.csv\", )\n",
    "\n",
    "\n",
    "\n",
    "def all_time_decoding_2sessions(traces_by_mouse: Dict[str, pd.DataFrame], events_by_mouse: Dict[str, pd.DataFrame], pipe, n_reps=75, cv=None):\n",
    "    res = {}\n",
    "    reps = {}\n",
    "    mice = list(traces_by_mouse.keys())\n",
    "    if cv is None:\n",
    "        cv=KFold(shuffle=False, n_splits=10)\n",
    "\n",
    "\n",
    "    for i, mouse in enumerate(mice):\n",
    "        if i == 0:\n",
    "            le = LabelEncoder().fit(events_by_mouse[mouse].values)\n",
    "        try:\n",
    "            traces = traces_by_mouse[mouse].values\n",
    "            freeze = le.transform(events_by_mouse[mouse].values.ravel()).ravel()\n",
    "        except KeyError:\n",
    "            print(f\"Data for {mouse} not found\")\n",
    "            continue\n",
    "        \n",
    "        res[mouse] = cross_val_score(clone(pipe), traces, freeze, cv=cv, scoring=\"f1_macro\").mean()\n",
    "        rep_vals = []\n",
    "        sessions = traces_by_mouse[mouse].index.get_level_values(\"session\").unique().values\n",
    "\n",
    "        for _ in tqdm(range(n_reps)):\n",
    "            X_s1 = rotate_traces(traces_by_mouse[mouse].loc[(sessions[0], slice(None)), :].copy()).values\n",
    "            X_s2 = rotate_traces(traces_by_mouse[mouse].loc[(sessions[1], slice(None)), :].copy()).values\n",
    "            X = np.concatenate((X_s1, X_s2))\n",
    "            rep_vals.append( cross_val_score(clone(pipe), X, freeze, cv=cv, scoring=\"f1_macro\").mean())\n",
    "        reps[mouse] = rep_vals\n",
    "\n",
    "    df_res = pd.Series(res)\n",
    "    df_reps = pd.DataFrame(reps)\n",
    "    return df_res, df_reps\n",
    "\n"
   ]
  },
  {
   "cell_type": "code",
   "execution_count": 5,
   "metadata": {},
   "outputs": [],
   "source": [
    "N_REPS = 75\n",
    "OUTDIR = DATA_DIR / \"derived\" / \"All time decoding\"\n",
    "OUTDIR.mkdir(exist_ok=True)"
   ]
  },
  {
   "cell_type": "code",
   "execution_count": 13,
   "metadata": {},
   "outputs": [
    {
     "name": "stderr",
     "output_type": "stream",
     "text": [
      "c:\\users\\roryl\\repos\\neurobox\\neurobox\\wide_transforms.py:98: PerformanceWarning: DataFrame is highly fragmented.  This is usually the result of calling `frame.insert` many times, which has poor performance.  Consider joining all columns at once using pd.concat(axis=1) instead.  To get a de-fragmented frame, use `newframe = frame.copy()`\n",
      "  df[\"time\"] = pd.to_timedelta(df.index, unit=\"s\")\n"
     ]
    },
    {
     "data": {
      "application/vnd.jupyter.widget-view+json": {
       "model_id": "e62964c86c6d4b359000c2307278f30a",
       "version_major": 2,
       "version_minor": 0
      },
      "text/plain": [
       "  0%|          | 0/75 [00:00<?, ?it/s]"
      ]
     },
     "metadata": {},
     "output_type": "display_data"
    },
    {
     "data": {
      "application/vnd.jupyter.widget-view+json": {
       "model_id": "4afa53097f6b41af8b5cd257617fc147",
       "version_major": 2,
       "version_minor": 0
      },
      "text/plain": [
       "  0%|          | 0/75 [00:00<?, ?it/s]"
      ]
     },
     "metadata": {},
     "output_type": "display_data"
    },
    {
     "data": {
      "application/vnd.jupyter.widget-view+json": {
       "model_id": "675645c2dc364da292c79713b086420c",
       "version_major": 2,
       "version_minor": 0
      },
      "text/plain": [
       "  0%|          | 0/75 [00:00<?, ?it/s]"
      ]
     },
     "metadata": {},
     "output_type": "display_data"
    },
    {
     "data": {
      "application/vnd.jupyter.widget-view+json": {
       "model_id": "27bf6c1d6fba4e5f9fbfe4dd1a2f1ce1",
       "version_major": 2,
       "version_minor": 0
      },
      "text/plain": [
       "  0%|          | 0/75 [00:00<?, ?it/s]"
      ]
     },
     "metadata": {},
     "output_type": "display_data"
    },
    {
     "data": {
      "application/vnd.jupyter.widget-view+json": {
       "model_id": "175a3a43b77d46f89e805be3491b8f5c",
       "version_major": 2,
       "version_minor": 0
      },
      "text/plain": [
       "  0%|          | 0/75 [00:00<?, ?it/s]"
      ]
     },
     "metadata": {},
     "output_type": "display_data"
    },
    {
     "data": {
      "application/vnd.jupyter.widget-view+json": {
       "model_id": "991bc6b218794634987aec0b2f100151",
       "version_major": 2,
       "version_minor": 0
      },
      "text/plain": [
       "  0%|          | 0/75 [00:00<?, ?it/s]"
      ]
     },
     "metadata": {},
     "output_type": "display_data"
    },
    {
     "data": {
      "application/vnd.jupyter.widget-view+json": {
       "model_id": "f2b9942248854904afc604f061254a7e",
       "version_major": 2,
       "version_minor": 0
      },
      "text/plain": [
       "  0%|          | 0/75 [00:00<?, ?it/s]"
      ]
     },
     "metadata": {},
     "output_type": "display_data"
    },
    {
     "data": {
      "application/vnd.jupyter.widget-view+json": {
       "model_id": "90afb66df1b2488db5cd0ed2ca55d36c",
       "version_major": 2,
       "version_minor": 0
      },
      "text/plain": [
       "  0%|          | 0/75 [00:00<?, ?it/s]"
      ]
     },
     "metadata": {},
     "output_type": "display_data"
    },
    {
     "data": {
      "image/png": "[encoded data removed]",
      "text/plain": [
       "<Figure size 432x288 with 1 Axes>"
      ]
     },
     "metadata": {
      "needs_background": "light"
     },
     "output_type": "display_data"
    }
   ],
   "source": [
    "mice = load_mouse_names(DATA_DIR)\n",
    "\n",
    "name=\"US Day2\"\n",
    "\n",
    "session=\"day2\"\n",
    "sampling_interval=\"200ms\"\n",
    "traces_by_mouse = load_traces_wide_by_mouse(\n",
    "    data_dir=DATA_DIR,\n",
    "    session=session,\n",
    "    sampling_interval=sampling_interval,\n",
    "    coreg_only=True\n",
    ")\n",
    "block_by_mouse = load_block_status_by_mouse(\n",
    "    data_dir=DATA_DIR,\n",
    "    session=session,\n",
    "    sampling_interval=sampling_interval,\n",
    "    t_after=5\n",
    ")\n",
    "\n",
    "pipe = make_pipeline(StandardScaler(), LogisticRegression(max_iter=200))\n",
    "\n",
    "df_res, df_reps = all_time_decoding(traces_by_mouse, block_by_mouse, n_reps=N_REPS)\n",
    "\n",
    "plot_results(df_reps, df_res, name=name)\n",
    "save_results(df_reps, df_res, name, OUTDIR)\n",
    "plt.savefig(OUTDIR / f\"{name}.svg\")"
   ]
  },
  {
   "cell_type": "code",
   "execution_count": 14,
   "metadata": {},
   "outputs": [
    {
     "name": "stderr",
     "output_type": "stream",
     "text": [
      "c:\\users\\roryl\\repos\\neurobox\\neurobox\\wide_transforms.py:98: PerformanceWarning: DataFrame is highly fragmented.  This is usually the result of calling `frame.insert` many times, which has poor performance.  Consider joining all columns at once using pd.concat(axis=1) instead.  To get a de-fragmented frame, use `newframe = frame.copy()`\n",
      "  df[\"time\"] = pd.to_timedelta(df.index, unit=\"s\")\n"
     ]
    },
    {
     "data": {
      "application/vnd.jupyter.widget-view+json": {
       "model_id": "27944a5e693f4a109e743233548e0d1e",
       "version_major": 2,
       "version_minor": 0
      },
      "text/plain": [
       "  0%|          | 0/75 [00:00<?, ?it/s]"
      ]
     },
     "metadata": {},
     "output_type": "display_data"
    },
    {
     "data": {
      "application/vnd.jupyter.widget-view+json": {
       "model_id": "6aa10e70930e41d7ab3cc8538e3c3b24",
       "version_major": 2,
       "version_minor": 0
      },
      "text/plain": [
       "  0%|          | 0/75 [00:00<?, ?it/s]"
      ]
     },
     "metadata": {},
     "output_type": "display_data"
    },
    {
     "data": {
      "application/vnd.jupyter.widget-view+json": {
       "model_id": "45dcb2fde15b4907be061725e00dada0",
       "version_major": 2,
       "version_minor": 0
      },
      "text/plain": [
       "  0%|          | 0/75 [00:00<?, ?it/s]"
      ]
     },
     "metadata": {},
     "output_type": "display_data"
    },
    {
     "data": {
      "application/vnd.jupyter.widget-view+json": {
       "model_id": "d7236b63189b487698e64d13d8954ec6",
       "version_major": 2,
       "version_minor": 0
      },
      "text/plain": [
       "  0%|          | 0/75 [00:00<?, ?it/s]"
      ]
     },
     "metadata": {},
     "output_type": "display_data"
    },
    {
     "data": {
      "application/vnd.jupyter.widget-view+json": {
       "model_id": "eb23c7e471584113b5b744d95e1c7d5e",
       "version_major": 2,
       "version_minor": 0
      },
      "text/plain": [
       "  0%|          | 0/75 [00:00<?, ?it/s]"
      ]
     },
     "metadata": {},
     "output_type": "display_data"
    },
    {
     "data": {
      "application/vnd.jupyter.widget-view+json": {
       "model_id": "1e17f89b1cd34e7097d61c591285f4ac",
       "version_major": 2,
       "version_minor": 0
      },
      "text/plain": [
       "  0%|          | 0/75 [00:00<?, ?it/s]"
      ]
     },
     "metadata": {},
     "output_type": "display_data"
    },
    {
     "data": {
      "application/vnd.jupyter.widget-view+json": {
       "model_id": "26c053b0266d417793b40991497f4e35",
       "version_major": 2,
       "version_minor": 0
      },
      "text/plain": [
       "  0%|          | 0/75 [00:00<?, ?it/s]"
      ]
     },
     "metadata": {},
     "output_type": "display_data"
    },
    {
     "data": {
      "application/vnd.jupyter.widget-view+json": {
       "model_id": "c56260681c1748869a04e51d3105269c",
       "version_major": 2,
       "version_minor": 0
      },
      "text/plain": [
       "  0%|          | 0/75 [00:00<?, ?it/s]"
      ]
     },
     "metadata": {},
     "output_type": "display_data"
    },
    {
     "data": {
      "image/png": "[encoded data removed]",
      "text/plain": [
       "<Figure size 432x288 with 1 Axes>"
      ]
     },
     "metadata": {
      "needs_background": "light"
     },
     "output_type": "display_data"
    }
   ],
   "source": [
    "mice = load_mouse_names(DATA_DIR)\n",
    "\n",
    "session = \"day4\"\n",
    "name=\"US day4\"\n",
    "sampling_interval=\"200ms\"\n",
    "traces_by_mouse = load_traces_wide_by_mouse(\n",
    "    data_dir=DATA_DIR,\n",
    "    session=session,\n",
    "    sampling_interval=sampling_interval,\n",
    "    coreg_only=True\n",
    ")\n",
    "block_by_mouse = load_block_status_by_mouse(\n",
    "    data_dir=DATA_DIR,\n",
    "    session=session,\n",
    "    sampling_interval=sampling_interval,\n",
    "    t_after=5\n",
    ")\n",
    "\n",
    "pipe = make_pipeline(StandardScaler(), LogisticRegression(max_iter=300))\n",
    "\n",
    "df_res, df_reps = all_time_decoding(traces_by_mouse, block_by_mouse, n_reps=N_REPS)\n",
    "ax = plot_results(df_reps, df_res, name=name)\n",
    "save_results(df_reps, df_res, name, OUTDIR)\n",
    "plt.savefig(OUTDIR / f\"{name}.svg\")"
   ]
  },
  {
   "cell_type": "code",
   "execution_count": 56,
   "metadata": {},
   "outputs": [
    {
     "data": {
      "image/png": "[encoded data removed]",
      "text/plain": [
       "<Figure size 432x288 with 1 Axes>"
      ]
     },
     "metadata": {
      "needs_background": "light"
     },
     "output_type": "display_data"
    }
   ],
   "source": [
    "ax = plot_results(df_reps, df_res, name=name)\n",
    "plt.savefig(OUTDIR / \"US Combined.svg\")"
   ]
  },
  {
   "cell_type": "code",
   "execution_count": 44,
   "metadata": {},
   "outputs": [],
   "source": [
    "from sklearn.decomposition import NMF, PCA, KernelPCA, SparsePCA, TruncatedSVD\n",
    "from sklearn.preprocessing import MinMaxScaler\n",
    "from sklearn.model_selection import StratifiedKFold\n",
    "from sklearn.neighbors import KNeighborsClassifier\n",
    "from sklearn.tree import DecisionTreeClassifier\n",
    "from sklearn.ensemble import RandomForestClassifier, GradientBoostingClassifier, ExtraTreesClassifier, AdaBoostClassifier\n",
    "from sklearn.discriminant_analysis import LinearDiscriminantAnalysis\n",
    "from sklearn.cross_decomposition import PLSSVD, PLSCanonical, CCA\n",
    "from sklearn.svm import SVC"
   ]
  },
  {
   "cell_type": "code",
   "execution_count": 54,
   "metadata": {},
   "outputs": [
    {
     "name": "stderr",
     "output_type": "stream",
     "text": [
      "c:\\users\\roryl\\repos\\neurobox\\neurobox\\wide_transforms.py:98: PerformanceWarning: DataFrame is highly fragmented.  This is usually the result of calling `frame.insert` many times, which has poor performance.  Consider joining all columns at once using pd.concat(axis=1) instead.  To get a de-fragmented frame, use `newframe = frame.copy()`\n",
      "  df[\"time\"] = pd.to_timedelta(df.index, unit=\"s\")\n",
      "c:\\Users\\roryl\\.conda\\envs\\observational-fear\\lib\\site-packages\\sklearn\\preprocessing\\_label.py:98: DataConversionWarning: A column-vector y was passed when a 1d array was expected. Please change the shape of y to (n_samples, ), for example using ravel().\n",
      "  y = column_or_1d(y, warn=True)\n"
     ]
    },
    {
     "data": {
      "application/vnd.jupyter.widget-view+json": {
       "model_id": "aab724b634a24f7283cc255198720666",
       "version_major": 2,
       "version_minor": 0
      },
      "text/plain": [
       "  0%|          | 0/75 [00:00<?, ?it/s]"
      ]
     },
     "metadata": {},
     "output_type": "display_data"
    },
    {
     "data": {
      "application/vnd.jupyter.widget-view+json": {
       "model_id": "f4b401c3cd96494a90ab5016ec622508",
       "version_major": 2,
       "version_minor": 0
      },
      "text/plain": [
       "  0%|          | 0/75 [00:00<?, ?it/s]"
      ]
     },
     "metadata": {},
     "output_type": "display_data"
    },
    {
     "data": {
      "application/vnd.jupyter.widget-view+json": {
       "model_id": "40953474780a4fa4984391a176cc2671",
       "version_major": 2,
       "version_minor": 0
      },
      "text/plain": [
       "  0%|          | 0/75 [00:00<?, ?it/s]"
      ]
     },
     "metadata": {},
     "output_type": "display_data"
    },
    {
     "data": {
      "application/vnd.jupyter.widget-view+json": {
       "model_id": "568e81aa413d4d65ae1626af7d44b205",
       "version_major": 2,
       "version_minor": 0
      },
      "text/plain": [
       "  0%|          | 0/75 [00:00<?, ?it/s]"
      ]
     },
     "metadata": {},
     "output_type": "display_data"
    },
    {
     "data": {
      "application/vnd.jupyter.widget-view+json": {
       "model_id": "c7a866bf6782443abaa352bebb880bd3",
       "version_major": 2,
       "version_minor": 0
      },
      "text/plain": [
       "  0%|          | 0/75 [00:00<?, ?it/s]"
      ]
     },
     "metadata": {},
     "output_type": "display_data"
    },
    {
     "data": {
      "application/vnd.jupyter.widget-view+json": {
       "model_id": "f3af329622684cadb8f291fb4b9b8241",
       "version_major": 2,
       "version_minor": 0
      },
      "text/plain": [
       "  0%|          | 0/75 [00:00<?, ?it/s]"
      ]
     },
     "metadata": {},
     "output_type": "display_data"
    },
    {
     "data": {
      "application/vnd.jupyter.widget-view+json": {
       "model_id": "2a72097f8de34d159adb0a50c4f30f23",
       "version_major": 2,
       "version_minor": 0
      },
      "text/plain": [
       "  0%|          | 0/75 [00:00<?, ?it/s]"
      ]
     },
     "metadata": {},
     "output_type": "display_data"
    },
    {
     "data": {
      "application/vnd.jupyter.widget-view+json": {
       "model_id": "2d788593174244a8a8025a7c55536066",
       "version_major": 2,
       "version_minor": 0
      },
      "text/plain": [
       "  0%|          | 0/75 [00:00<?, ?it/s]"
      ]
     },
     "metadata": {},
     "output_type": "display_data"
    },
    {
     "data": {
      "image/png": "[encoded data removed]",
      "text/plain": [
       "<Figure size 432x288 with 1 Axes>"
      ]
     },
     "metadata": {
      "needs_background": "light"
     },
     "output_type": "display_data"
    }
   ],
   "source": [
    "mice = load_mouse_names(DATA_DIR)\n",
    "\n",
    "name= \"US Combined\"\n",
    "sampling_interval=\"200ms\"\n",
    "traces_by_mouse = load_traces_wide_by_mouse_two_session(\n",
    "    data_dir=DATA_DIR,\n",
    "    session1=\"day2\",\n",
    "    session2=\"day4\",\n",
    "    sampling_interval=sampling_interval,\n",
    "    coreg_only=True\n",
    ")\n",
    "block_by_mouse = load_block_status_by_mouse_two_sessions(\n",
    "    data_dir=DATA_DIR,\n",
    "    session1=\"day2\",\n",
    "    session2=\"day4\",\n",
    "    sampling_interval=sampling_interval,\n",
    "    t_after=5\n",
    ")\n",
    "\n",
    "\n",
    "pipe = make_pipeline(RandomForestClassifier(n_jobs=15, n_estimators=150))  # works\n",
    "\n",
    "\n",
    "df_res, df_reps = all_time_decoding_2sessions(traces_by_mouse, block_by_mouse, pipe=pipe, n_reps=75, cv=StratifiedKFold(shuffle=False, n_splits=10))\n",
    "\n",
    "plot_results(df_reps, df_res, name=name)\n",
    "save_results(df_reps, df_res, name, OUTDIR)"
   ]
  },
  {
   "cell_type": "code",
   "execution_count": null,
   "metadata": {},
   "outputs": [],
   "source": []
  },
  {
   "cell_type": "code",
   "execution_count": null,
   "metadata": {},
   "outputs": [],
   "source": []
  },
  {
   "cell_type": "code",
   "execution_count": 23,
   "metadata": {},
   "outputs": [
    {
     "data": {
      "text/plain": [
       "0        Not Block\n",
       "1        Not Block\n",
       "2        Not Block\n",
       "3        Not Block\n",
       "4        Not Block\n",
       "           ...    \n",
       "21595    Not Block\n",
       "21596    Not Block\n",
       "21597    Not Block\n",
       "21598    Not Block\n",
       "21599    Not Block\n",
       "Length: 21600, dtype: object"
      ]
     },
     "execution_count": 23,
     "metadata": {},
     "output_type": "execute_result"
    }
   ],
   "source": [
    "pd.concat([block_by_mouse[\"B17274\"], block_by_mouse[\"B17274\"]]).reset_index(drop=True)"
   ]
  },
  {
   "cell_type": "code",
   "execution_count": 32,
   "metadata": {},
   "outputs": [
    {
     "data": {
      "text/plain": [
       "0        day2\n",
       "1        day2\n",
       "2        day2\n",
       "3        day2\n",
       "4        day2\n",
       "         ... \n",
       "21595    day4\n",
       "21596    day4\n",
       "21597    day4\n",
       "21598    day4\n",
       "21599    day4\n",
       "Length: 21600, dtype: object"
      ]
     },
     "execution_count": 32,
     "metadata": {},
     "output_type": "execute_result"
    }
   ],
   "source": [
    "block_by_mouse[\"B17274\"]"
   ]
  },
  {
   "cell_type": "code",
   "execution_count": 31,
   "metadata": {},
   "outputs": [
    {
     "data": {
      "text/html": [
       "<div>\n",
       "<style scoped>\n",
       "    .dataframe tbody tr th:only-of-type {\n",
       "        vertical-align: middle;\n",
       "    }\n",
       "\n",
       "    .dataframe tbody tr th {\n",
       "        vertical-align: top;\n",
       "    }\n",
       "\n",
       "    .dataframe thead th {\n",
       "        text-align: right;\n",
       "    }\n",
       "</style>\n",
       "<table border=\"1\" class=\"dataframe\">\n",
       "  <thead>\n",
       "    <tr style=\"text-align: right;\">\n",
       "      <th>new_id</th>\n",
       "      <th>0</th>\n",
       "      <th>1</th>\n",
       "      <th>10</th>\n",
       "      <th>12</th>\n",
       "      <th>29</th>\n",
       "      <th>3</th>\n",
       "      <th>30</th>\n",
       "      <th>31</th>\n",
       "      <th>32</th>\n",
       "      <th>33</th>\n",
       "      <th>...</th>\n",
       "      <th>54</th>\n",
       "      <th>56</th>\n",
       "      <th>58</th>\n",
       "      <th>67</th>\n",
       "      <th>70</th>\n",
       "      <th>72</th>\n",
       "      <th>75</th>\n",
       "      <th>78</th>\n",
       "      <th>81</th>\n",
       "      <th>84</th>\n",
       "    </tr>\n",
       "    <tr>\n",
       "      <th>time</th>\n",
       "      <th></th>\n",
       "      <th></th>\n",
       "      <th></th>\n",
       "      <th></th>\n",
       "      <th></th>\n",
       "      <th></th>\n",
       "      <th></th>\n",
       "      <th></th>\n",
       "      <th></th>\n",
       "      <th></th>\n",
       "      <th></th>\n",
       "      <th></th>\n",
       "      <th></th>\n",
       "      <th></th>\n",
       "      <th></th>\n",
       "      <th></th>\n",
       "      <th></th>\n",
       "      <th></th>\n",
       "      <th></th>\n",
       "      <th></th>\n",
       "      <th></th>\n",
       "    </tr>\n",
       "  </thead>\n",
       "  <tbody>\n",
       "    <tr>\n",
       "      <th>0.0</th>\n",
       "      <td>0.000000</td>\n",
       "      <td>16.539210</td>\n",
       "      <td>846.283200</td>\n",
       "      <td>90.039760</td>\n",
       "      <td>0.000000</td>\n",
       "      <td>110.168800</td>\n",
       "      <td>0.0</td>\n",
       "      <td>0.000000</td>\n",
       "      <td>0.000000</td>\n",
       "      <td>0.00000</td>\n",
       "      <td>...</td>\n",
       "      <td>36.177095</td>\n",
       "      <td>57.684025</td>\n",
       "      <td>0.000000</td>\n",
       "      <td>103.013835</td>\n",
       "      <td>37.923150</td>\n",
       "      <td>0.000000</td>\n",
       "      <td>79.948920</td>\n",
       "      <td>5.380040</td>\n",
       "      <td>2.368477</td>\n",
       "      <td>1.600871</td>\n",
       "    </tr>\n",
       "    <tr>\n",
       "      <th>0.2</th>\n",
       "      <td>0.000000</td>\n",
       "      <td>14.694265</td>\n",
       "      <td>771.985750</td>\n",
       "      <td>85.020730</td>\n",
       "      <td>0.000000</td>\n",
       "      <td>100.101260</td>\n",
       "      <td>0.0</td>\n",
       "      <td>0.000000</td>\n",
       "      <td>2.026469</td>\n",
       "      <td>0.00000</td>\n",
       "      <td>...</td>\n",
       "      <td>63.970790</td>\n",
       "      <td>57.705485</td>\n",
       "      <td>0.000000</td>\n",
       "      <td>103.319850</td>\n",
       "      <td>30.317225</td>\n",
       "      <td>53.077430</td>\n",
       "      <td>77.024040</td>\n",
       "      <td>16.949805</td>\n",
       "      <td>4.886096</td>\n",
       "      <td>2.932581</td>\n",
       "    </tr>\n",
       "    <tr>\n",
       "      <th>0.4</th>\n",
       "      <td>0.000000</td>\n",
       "      <td>13.055125</td>\n",
       "      <td>710.134800</td>\n",
       "      <td>80.300235</td>\n",
       "      <td>0.000000</td>\n",
       "      <td>87.018595</td>\n",
       "      <td>0.0</td>\n",
       "      <td>24.912055</td>\n",
       "      <td>3.656125</td>\n",
       "      <td>0.00000</td>\n",
       "      <td>...</td>\n",
       "      <td>54.222305</td>\n",
       "      <td>51.313760</td>\n",
       "      <td>0.000000</td>\n",
       "      <td>97.463765</td>\n",
       "      <td>24.236750</td>\n",
       "      <td>84.121510</td>\n",
       "      <td>79.907660</td>\n",
       "      <td>25.942310</td>\n",
       "      <td>6.954993</td>\n",
       "      <td>15.707060</td>\n",
       "    </tr>\n",
       "    <tr>\n",
       "      <th>0.6</th>\n",
       "      <td>0.000000</td>\n",
       "      <td>11.598825</td>\n",
       "      <td>680.640150</td>\n",
       "      <td>87.915870</td>\n",
       "      <td>0.000000</td>\n",
       "      <td>89.652840</td>\n",
       "      <td>0.0</td>\n",
       "      <td>42.073380</td>\n",
       "      <td>3.184273</td>\n",
       "      <td>0.00000</td>\n",
       "      <td>...</td>\n",
       "      <td>45.959395</td>\n",
       "      <td>43.604260</td>\n",
       "      <td>23.561410</td>\n",
       "      <td>94.393665</td>\n",
       "      <td>19.375790</td>\n",
       "      <td>76.298275</td>\n",
       "      <td>70.337330</td>\n",
       "      <td>23.411020</td>\n",
       "      <td>6.426182</td>\n",
       "      <td>27.931685</td>\n",
       "    </tr>\n",
       "    <tr>\n",
       "      <th>0.8</th>\n",
       "      <td>0.000000</td>\n",
       "      <td>20.573120</td>\n",
       "      <td>646.856150</td>\n",
       "      <td>93.980415</td>\n",
       "      <td>0.000000</td>\n",
       "      <td>90.416800</td>\n",
       "      <td>0.0</td>\n",
       "      <td>46.269270</td>\n",
       "      <td>13.870960</td>\n",
       "      <td>0.00000</td>\n",
       "      <td>...</td>\n",
       "      <td>38.955655</td>\n",
       "      <td>39.533220</td>\n",
       "      <td>63.379840</td>\n",
       "      <td>84.223150</td>\n",
       "      <td>17.750375</td>\n",
       "      <td>69.202595</td>\n",
       "      <td>72.888090</td>\n",
       "      <td>23.969965</td>\n",
       "      <td>13.609135</td>\n",
       "      <td>36.765660</td>\n",
       "    </tr>\n",
       "    <tr>\n",
       "      <th>...</th>\n",
       "      <td>...</td>\n",
       "      <td>...</td>\n",
       "      <td>...</td>\n",
       "      <td>...</td>\n",
       "      <td>...</td>\n",
       "      <td>...</td>\n",
       "      <td>...</td>\n",
       "      <td>...</td>\n",
       "      <td>...</td>\n",
       "      <td>...</td>\n",
       "      <td>...</td>\n",
       "      <td>...</td>\n",
       "      <td>...</td>\n",
       "      <td>...</td>\n",
       "      <td>...</td>\n",
       "      <td>...</td>\n",
       "      <td>...</td>\n",
       "      <td>...</td>\n",
       "      <td>...</td>\n",
       "      <td>...</td>\n",
       "      <td>...</td>\n",
       "    </tr>\n",
       "    <tr>\n",
       "      <th>2159.0</th>\n",
       "      <td>4.998988</td>\n",
       "      <td>30.524455</td>\n",
       "      <td>55.614165</td>\n",
       "      <td>31.934995</td>\n",
       "      <td>76.052465</td>\n",
       "      <td>12.381905</td>\n",
       "      <td>0.0</td>\n",
       "      <td>64.188875</td>\n",
       "      <td>0.144007</td>\n",
       "      <td>284.30685</td>\n",
       "      <td>...</td>\n",
       "      <td>81.138560</td>\n",
       "      <td>0.000201</td>\n",
       "      <td>2.573459</td>\n",
       "      <td>98.403465</td>\n",
       "      <td>30.929905</td>\n",
       "      <td>21.807570</td>\n",
       "      <td>20.987585</td>\n",
       "      <td>35.054240</td>\n",
       "      <td>11.381700</td>\n",
       "      <td>32.159050</td>\n",
       "    </tr>\n",
       "    <tr>\n",
       "      <th>2159.2</th>\n",
       "      <td>3.844868</td>\n",
       "      <td>27.156895</td>\n",
       "      <td>143.033100</td>\n",
       "      <td>43.932565</td>\n",
       "      <td>68.483510</td>\n",
       "      <td>19.397655</td>\n",
       "      <td>0.0</td>\n",
       "      <td>59.646430</td>\n",
       "      <td>0.123259</td>\n",
       "      <td>306.93950</td>\n",
       "      <td>...</td>\n",
       "      <td>71.611895</td>\n",
       "      <td>0.000175</td>\n",
       "      <td>2.218602</td>\n",
       "      <td>96.653440</td>\n",
       "      <td>40.757915</td>\n",
       "      <td>19.571285</td>\n",
       "      <td>18.198440</td>\n",
       "      <td>31.872610</td>\n",
       "      <td>10.413250</td>\n",
       "      <td>27.916175</td>\n",
       "    </tr>\n",
       "    <tr>\n",
       "      <th>2159.4</th>\n",
       "      <td>4.469267</td>\n",
       "      <td>24.160850</td>\n",
       "      <td>143.822300</td>\n",
       "      <td>39.475645</td>\n",
       "      <td>61.667835</td>\n",
       "      <td>14.609720</td>\n",
       "      <td>0.0</td>\n",
       "      <td>53.998170</td>\n",
       "      <td>0.105500</td>\n",
       "      <td>277.15670</td>\n",
       "      <td>...</td>\n",
       "      <td>63.203770</td>\n",
       "      <td>0.000152</td>\n",
       "      <td>1.912678</td>\n",
       "      <td>99.723875</td>\n",
       "      <td>35.516290</td>\n",
       "      <td>17.564320</td>\n",
       "      <td>15.779945</td>\n",
       "      <td>28.979755</td>\n",
       "      <td>9.527200</td>\n",
       "      <td>24.233075</td>\n",
       "    </tr>\n",
       "    <tr>\n",
       "      <th>2159.6</th>\n",
       "      <td>3.437445</td>\n",
       "      <td>21.495340</td>\n",
       "      <td>131.404400</td>\n",
       "      <td>35.470870</td>\n",
       "      <td>55.530475</td>\n",
       "      <td>15.908625</td>\n",
       "      <td>0.0</td>\n",
       "      <td>48.884770</td>\n",
       "      <td>0.090300</td>\n",
       "      <td>336.03160</td>\n",
       "      <td>...</td>\n",
       "      <td>55.782870</td>\n",
       "      <td>0.000132</td>\n",
       "      <td>1.648937</td>\n",
       "      <td>87.570800</td>\n",
       "      <td>30.948755</td>\n",
       "      <td>15.763165</td>\n",
       "      <td>13.682840</td>\n",
       "      <td>26.349465</td>\n",
       "      <td>8.716545</td>\n",
       "      <td>21.035900</td>\n",
       "    </tr>\n",
       "    <tr>\n",
       "      <th>2159.8</th>\n",
       "      <td>3.212189</td>\n",
       "      <td>20.867330</td>\n",
       "      <td>128.438500</td>\n",
       "      <td>34.522500</td>\n",
       "      <td>54.075490</td>\n",
       "      <td>20.035180</td>\n",
       "      <td>0.0</td>\n",
       "      <td>47.669200</td>\n",
       "      <td>0.086789</td>\n",
       "      <td>346.41640</td>\n",
       "      <td>...</td>\n",
       "      <td>54.041660</td>\n",
       "      <td>0.000127</td>\n",
       "      <td>1.587800</td>\n",
       "      <td>84.726680</td>\n",
       "      <td>29.884090</td>\n",
       "      <td>15.336900</td>\n",
       "      <td>13.195260</td>\n",
       "      <td>25.722800</td>\n",
       "      <td>8.522792</td>\n",
       "      <td>20.292130</td>\n",
       "    </tr>\n",
       "  </tbody>\n",
       "</table>\n",
       "<p>21600 rows × 32 columns</p>\n",
       "</div>"
      ],
      "text/plain": [
       "new_id         0          1          10         12         29           3  \\\n",
       "time                                                                        \n",
       "0.0     0.000000  16.539210  846.283200  90.039760   0.000000  110.168800   \n",
       "0.2     0.000000  14.694265  771.985750  85.020730   0.000000  100.101260   \n",
       "0.4     0.000000  13.055125  710.134800  80.300235   0.000000   87.018595   \n",
       "0.6     0.000000  11.598825  680.640150  87.915870   0.000000   89.652840   \n",
       "0.8     0.000000  20.573120  646.856150  93.980415   0.000000   90.416800   \n",
       "...          ...        ...         ...        ...        ...         ...   \n",
       "2159.0  4.998988  30.524455   55.614165  31.934995  76.052465   12.381905   \n",
       "2159.2  3.844868  27.156895  143.033100  43.932565  68.483510   19.397655   \n",
       "2159.4  4.469267  24.160850  143.822300  39.475645  61.667835   14.609720   \n",
       "2159.6  3.437445  21.495340  131.404400  35.470870  55.530475   15.908625   \n",
       "2159.8  3.212189  20.867330  128.438500  34.522500  54.075490   20.035180   \n",
       "\n",
       "new_id   30         31         32         33  ...         54         56  \\\n",
       "time                                          ...                         \n",
       "0.0     0.0   0.000000   0.000000    0.00000  ...  36.177095  57.684025   \n",
       "0.2     0.0   0.000000   2.026469    0.00000  ...  63.970790  57.705485   \n",
       "0.4     0.0  24.912055   3.656125    0.00000  ...  54.222305  51.313760   \n",
       "0.6     0.0  42.073380   3.184273    0.00000  ...  45.959395  43.604260   \n",
       "0.8     0.0  46.269270  13.870960    0.00000  ...  38.955655  39.533220   \n",
       "...     ...        ...        ...        ...  ...        ...        ...   \n",
       "2159.0  0.0  64.188875   0.144007  284.30685  ...  81.138560   0.000201   \n",
       "2159.2  0.0  59.646430   0.123259  306.93950  ...  71.611895   0.000175   \n",
       "2159.4  0.0  53.998170   0.105500  277.15670  ...  63.203770   0.000152   \n",
       "2159.6  0.0  48.884770   0.090300  336.03160  ...  55.782870   0.000132   \n",
       "2159.8  0.0  47.669200   0.086789  346.41640  ...  54.041660   0.000127   \n",
       "\n",
       "new_id         58          67         70         72         75         78  \\\n",
       "time                                                                        \n",
       "0.0      0.000000  103.013835  37.923150   0.000000  79.948920   5.380040   \n",
       "0.2      0.000000  103.319850  30.317225  53.077430  77.024040  16.949805   \n",
       "0.4      0.000000   97.463765  24.236750  84.121510  79.907660  25.942310   \n",
       "0.6     23.561410   94.393665  19.375790  76.298275  70.337330  23.411020   \n",
       "0.8     63.379840   84.223150  17.750375  69.202595  72.888090  23.969965   \n",
       "...           ...         ...        ...        ...        ...        ...   \n",
       "2159.0   2.573459   98.403465  30.929905  21.807570  20.987585  35.054240   \n",
       "2159.2   2.218602   96.653440  40.757915  19.571285  18.198440  31.872610   \n",
       "2159.4   1.912678   99.723875  35.516290  17.564320  15.779945  28.979755   \n",
       "2159.6   1.648937   87.570800  30.948755  15.763165  13.682840  26.349465   \n",
       "2159.8   1.587800   84.726680  29.884090  15.336900  13.195260  25.722800   \n",
       "\n",
       "new_id         81         84  \n",
       "time                          \n",
       "0.0      2.368477   1.600871  \n",
       "0.2      4.886096   2.932581  \n",
       "0.4      6.954993  15.707060  \n",
       "0.6      6.426182  27.931685  \n",
       "0.8     13.609135  36.765660  \n",
       "...           ...        ...  \n",
       "2159.0  11.381700  32.159050  \n",
       "2159.2  10.413250  27.916175  \n",
       "2159.4   9.527200  24.233075  \n",
       "2159.6   8.716545  21.035900  \n",
       "2159.8   8.522792  20.292130  \n",
       "\n",
       "[21600 rows x 32 columns]"
      ]
     },
     "execution_count": 31,
     "metadata": {},
     "output_type": "execute_result"
    }
   ],
   "source": [
    "traces_by_mouse[\"B17274\"]."
   ]
  },
  {
   "cell_type": "code",
   "execution_count": 15,
   "metadata": {},
   "outputs": [
    {
     "name": "stderr",
     "output_type": "stream",
     "text": [
      "c:\\users\\roryl\\repos\\neurobox\\neurobox\\wide_transforms.py:98: PerformanceWarning: DataFrame is highly fragmented.  This is usually the result of calling `frame.insert` many times, which has poor performance.  Consider joining all columns at once using pd.concat(axis=1) instead.  To get a de-fragmented frame, use `newframe = frame.copy()`\n",
      "  df[\"time\"] = pd.to_timedelta(df.index, unit=\"s\")\n"
     ]
    },
    {
     "data": {
      "application/vnd.jupyter.widget-view+json": {
       "model_id": "339da5af39ab49f28bd3c113d4423eb5",
       "version_major": 2,
       "version_minor": 0
      },
      "text/plain": [
       "  0%|          | 0/75 [00:00<?, ?it/s]"
      ]
     },
     "metadata": {},
     "output_type": "display_data"
    },
    {
     "data": {
      "application/vnd.jupyter.widget-view+json": {
       "model_id": "fa5840a5b8484dccb2d4278d92dbaaa3",
       "version_major": 2,
       "version_minor": 0
      },
      "text/plain": [
       "  0%|          | 0/75 [00:00<?, ?it/s]"
      ]
     },
     "metadata": {},
     "output_type": "display_data"
    },
    {
     "data": {
      "application/vnd.jupyter.widget-view+json": {
       "model_id": "c731b62e18e3437abe793609f3ed5c7d",
       "version_major": 2,
       "version_minor": 0
      },
      "text/plain": [
       "  0%|          | 0/75 [00:00<?, ?it/s]"
      ]
     },
     "metadata": {},
     "output_type": "display_data"
    },
    {
     "data": {
      "application/vnd.jupyter.widget-view+json": {
       "model_id": "f7fc2de137e04e06a02708eea2bf3b93",
       "version_major": 2,
       "version_minor": 0
      },
      "text/plain": [
       "  0%|          | 0/75 [00:00<?, ?it/s]"
      ]
     },
     "metadata": {},
     "output_type": "display_data"
    },
    {
     "data": {
      "application/vnd.jupyter.widget-view+json": {
       "model_id": "ea104ae001ed4507acf6699117933ed9",
       "version_major": 2,
       "version_minor": 0
      },
      "text/plain": [
       "  0%|          | 0/75 [00:00<?, ?it/s]"
      ]
     },
     "metadata": {},
     "output_type": "display_data"
    },
    {
     "data": {
      "application/vnd.jupyter.widget-view+json": {
       "model_id": "3d40d4c6f9b342c18cbcdbbcc987797e",
       "version_major": 2,
       "version_minor": 0
      },
      "text/plain": [
       "  0%|          | 0/75 [00:00<?, ?it/s]"
      ]
     },
     "metadata": {},
     "output_type": "display_data"
    },
    {
     "data": {
      "application/vnd.jupyter.widget-view+json": {
       "model_id": "cb88bf193b56466485e573999e533087",
       "version_major": 2,
       "version_minor": 0
      },
      "text/plain": [
       "  0%|          | 0/75 [00:00<?, ?it/s]"
      ]
     },
     "metadata": {},
     "output_type": "display_data"
    },
    {
     "data": {
      "application/vnd.jupyter.widget-view+json": {
       "model_id": "d7f8a1bfd85d46e38fec0497b8956d10",
       "version_major": 2,
       "version_minor": 0
      },
      "text/plain": [
       "  0%|          | 0/75 [00:00<?, ?it/s]"
      ]
     },
     "metadata": {},
     "output_type": "display_data"
    },
    {
     "data": {
      "image/png": "[encoded data removed]",
      "text/plain": [
       "<Figure size 432x288 with 1 Axes>"
      ]
     },
     "metadata": {
      "needs_background": "light"
     },
     "output_type": "display_data"
    }
   ],
   "source": [
    "mice = load_mouse_names(DATA_DIR)\n",
    "\n",
    "session = \"day2\"\n",
    "name=\"Freeze Day2\"\n",
    "sampling_interval=\"200ms\"\n",
    "traces_by_mouse = load_traces_wide_by_mouse(\n",
    "    data_dir=DATA_DIR,\n",
    "    session=session,\n",
    "    sampling_interval=sampling_interval,\n",
    ")\n",
    "freeze_by_mouse = load_freeze_status_by_mouse(\n",
    "    data_dir=DATA_DIR,\n",
    "    session=session,\n",
    "    sampling_interval=sampling_interval,\n",
    ")\n",
    "\n",
    "pipe = make_pipeline(StandardScaler(), LogisticRegression(max_iter=200))\n",
    "\n",
    "df_res, df_reps = all_time_decoding(traces_by_mouse, freeze_by_mouse, n_reps=N_REPS)\n",
    "\n",
    "plot_results(df_reps, df_res, name=name)\n",
    "save_results(df_reps, df_res, name, OUTDIR)\n",
    "plt.savefig(OUTDIR / f\"{name}.svg\")"
   ]
  },
  {
   "cell_type": "code",
   "execution_count": 6,
   "metadata": {},
   "outputs": [
    {
     "name": "stderr",
     "output_type": "stream",
     "text": [
      "c:\\users\\roryl\\repos\\neurobox\\neurobox\\wide_transforms.py:98: PerformanceWarning: DataFrame is highly fragmented.  This is usually the result of calling `frame.insert` many times, which has poor performance.  Consider joining all columns at once using pd.concat(axis=1) instead.  To get a de-fragmented frame, use `newframe = frame.copy()`\n",
      "  df[\"time\"] = pd.to_timedelta(df.index, unit=\"s\")\n"
     ]
    },
    {
     "ename": "KeyboardInterrupt",
     "evalue": "",
     "output_type": "error",
     "traceback": [
      "\u001b[1;31m---------------------------------------------------------------------------\u001b[0m",
      "\u001b[1;31mKeyboardInterrupt\u001b[0m                         Traceback (most recent call last)",
      "\u001b[1;32m~\\AppData\\Local\\Temp/ipykernel_9424/764129895.py\u001b[0m in \u001b[0;36m<module>\u001b[1;34m\u001b[0m\n\u001b[0;32m      7\u001b[0m     \u001b[0mdata_dir\u001b[0m\u001b[1;33m=\u001b[0m\u001b[0mDATA_DIR\u001b[0m\u001b[1;33m,\u001b[0m\u001b[1;33m\u001b[0m\u001b[1;33m\u001b[0m\u001b[0m\n\u001b[0;32m      8\u001b[0m     \u001b[0msession\u001b[0m\u001b[1;33m=\u001b[0m\u001b[0msession\u001b[0m\u001b[1;33m,\u001b[0m\u001b[1;33m\u001b[0m\u001b[1;33m\u001b[0m\u001b[0m\n\u001b[1;32m----> 9\u001b[1;33m     \u001b[0msampling_interval\u001b[0m\u001b[1;33m=\u001b[0m\u001b[0msampling_interval\u001b[0m\u001b[1;33m,\u001b[0m\u001b[1;33m\u001b[0m\u001b[1;33m\u001b[0m\u001b[0m\n\u001b[0m\u001b[0;32m     10\u001b[0m )\n\u001b[0;32m     11\u001b[0m freeze_by_mouse = load_freeze_status_by_mouse(\n",
      "\u001b[1;32m~\\AppData\\Local\\Temp/ipykernel_9424/2410219602.py\u001b[0m in \u001b[0;36mload_traces_wide_by_mouse\u001b[1;34m(data_dir, session, sampling_interval, coreg_only)\u001b[0m\n\u001b[0;32m     17\u001b[0m         \u001b[0mload\u001b[0m\u001b[1;33m.\u001b[0m\u001b[0mload_traces\u001b[0m\u001b[1;33m(\u001b[0m\u001b[0mdata_dir\u001b[0m\u001b[1;33m=\u001b[0m\u001b[0mdata_dir\u001b[0m\u001b[1;33m,\u001b[0m \u001b[0msession\u001b[0m\u001b[1;33m=\u001b[0m\u001b[0msession\u001b[0m\u001b[1;33m)\u001b[0m\u001b[1;33m\u001b[0m\u001b[1;33m\u001b[0m\u001b[0m\n\u001b[0;32m     18\u001b[0m         \u001b[1;33m.\u001b[0m\u001b[0mset_index\u001b[0m\u001b[1;33m(\u001b[0m\u001b[1;34m\"time\"\u001b[0m\u001b[1;33m)\u001b[0m\u001b[1;33m\u001b[0m\u001b[1;33m\u001b[0m\u001b[0m\n\u001b[1;32m---> 19\u001b[1;33m         \u001b[1;33m.\u001b[0m\u001b[0mpipe\u001b[0m\u001b[1;33m(\u001b[0m\u001b[0mresample\u001b[0m\u001b[1;33m,\u001b[0m \u001b[0mnew_interval\u001b[0m\u001b[1;33m=\u001b[0m\u001b[0msampling_interval\u001b[0m\u001b[1;33m)\u001b[0m\u001b[1;33m\u001b[0m\u001b[1;33m\u001b[0m\u001b[0m\n\u001b[0m\u001b[0;32m     20\u001b[0m     )\n\u001b[0;32m     21\u001b[0m     return {\n",
      "\u001b[1;32mc:\\Users\\roryl\\.conda\\envs\\observational-fear\\lib\\site-packages\\pandas\\core\\generic.py\u001b[0m in \u001b[0;36mpipe\u001b[1;34m(self, func, *args, **kwargs)\u001b[0m\n\u001b[0;32m   5428\u001b[0m         ...  )  # doctest: +SKIP\n\u001b[0;32m   5429\u001b[0m         \"\"\"\n\u001b[1;32m-> 5430\u001b[1;33m         \u001b[1;32mreturn\u001b[0m \u001b[0mcom\u001b[0m\u001b[1;33m.\u001b[0m\u001b[0mpipe\u001b[0m\u001b[1;33m(\u001b[0m\u001b[0mself\u001b[0m\u001b[1;33m,\u001b[0m \u001b[0mfunc\u001b[0m\u001b[1;33m,\u001b[0m \u001b[1;33m*\u001b[0m\u001b[0margs\u001b[0m\u001b[1;33m,\u001b[0m \u001b[1;33m**\u001b[0m\u001b[0mkwargs\u001b[0m\u001b[1;33m)\u001b[0m\u001b[1;33m\u001b[0m\u001b[1;33m\u001b[0m\u001b[0m\n\u001b[0m\u001b[0;32m   5431\u001b[0m \u001b[1;33m\u001b[0m\u001b[0m\n\u001b[0;32m   5432\u001b[0m     \u001b[1;31m# ----------------------------------------------------------------------\u001b[0m\u001b[1;33m\u001b[0m\u001b[1;33m\u001b[0m\u001b[1;33m\u001b[0m\u001b[0m\n",
      "\u001b[1;32mc:\\Users\\roryl\\.conda\\envs\\observational-fear\\lib\\site-packages\\pandas\\core\\common.py\u001b[0m in \u001b[0;36mpipe\u001b[1;34m(obj, func, *args, **kwargs)\u001b[0m\n\u001b[0;32m    469\u001b[0m         \u001b[1;32mreturn\u001b[0m \u001b[0mfunc\u001b[0m\u001b[1;33m(\u001b[0m\u001b[1;33m*\u001b[0m\u001b[0margs\u001b[0m\u001b[1;33m,\u001b[0m \u001b[1;33m**\u001b[0m\u001b[0mkwargs\u001b[0m\u001b[1;33m)\u001b[0m\u001b[1;33m\u001b[0m\u001b[1;33m\u001b[0m\u001b[0m\n\u001b[0;32m    470\u001b[0m     \u001b[1;32melse\u001b[0m\u001b[1;33m:\u001b[0m\u001b[1;33m\u001b[0m\u001b[1;33m\u001b[0m\u001b[0m\n\u001b[1;32m--> 471\u001b[1;33m         \u001b[1;32mreturn\u001b[0m \u001b[0mfunc\u001b[0m\u001b[1;33m(\u001b[0m\u001b[0mobj\u001b[0m\u001b[1;33m,\u001b[0m \u001b[1;33m*\u001b[0m\u001b[0margs\u001b[0m\u001b[1;33m,\u001b[0m \u001b[1;33m**\u001b[0m\u001b[0mkwargs\u001b[0m\u001b[1;33m)\u001b[0m\u001b[1;33m\u001b[0m\u001b[1;33m\u001b[0m\u001b[0m\n\u001b[0m\u001b[0;32m    472\u001b[0m \u001b[1;33m\u001b[0m\u001b[0m\n\u001b[0;32m    473\u001b[0m \u001b[1;33m\u001b[0m\u001b[0m\n",
      "\u001b[1;32mc:\\users\\roryl\\repos\\neurobox\\neurobox\\wide_transforms.py\u001b[0m in \u001b[0;36mresample\u001b[1;34m(df, new_interval, grouping_cols, floor)\u001b[0m\n\u001b[0;32m    103\u001b[0m         \u001b[0mdf\u001b[0m \u001b[1;33m=\u001b[0m \u001b[0mdf\u001b[0m\u001b[1;33m.\u001b[0m\u001b[0mgroupby\u001b[0m\u001b[1;33m(\u001b[0m\u001b[0mgrouping_cols\u001b[0m\u001b[1;33m)\u001b[0m\u001b[1;33m\u001b[0m\u001b[1;33m\u001b[0m\u001b[0m\n\u001b[0;32m    104\u001b[0m     return (\n\u001b[1;32m--> 105\u001b[1;33m         \u001b[0mdf\u001b[0m\u001b[1;33m.\u001b[0m\u001b[0mresample\u001b[0m\u001b[1;33m(\u001b[0m\u001b[0mnew_interval\u001b[0m\u001b[1;33m)\u001b[0m\u001b[1;33m\u001b[0m\u001b[1;33m\u001b[0m\u001b[0m\n\u001b[0m\u001b[0;32m    106\u001b[0m         \u001b[1;33m.\u001b[0m\u001b[0mmean\u001b[0m\u001b[1;33m(\u001b[0m\u001b[1;33m)\u001b[0m\u001b[1;33m\u001b[0m\u001b[1;33m\u001b[0m\u001b[0m\n\u001b[0;32m    107\u001b[0m         \u001b[1;33m.\u001b[0m\u001b[0mreset_index\u001b[0m\u001b[1;33m(\u001b[0m\u001b[1;33m)\u001b[0m\u001b[1;33m\u001b[0m\u001b[1;33m\u001b[0m\u001b[0m\n",
      "\u001b[1;32mc:\\Users\\roryl\\.conda\\envs\\observational-fear\\lib\\site-packages\\pandas\\core\\resample.py\u001b[0m in \u001b[0;36mg\u001b[1;34m(self, _method, *args, **kwargs)\u001b[0m\n\u001b[0;32m    996\u001b[0m     \u001b[1;32mdef\u001b[0m \u001b[0mg\u001b[0m\u001b[1;33m(\u001b[0m\u001b[0mself\u001b[0m\u001b[1;33m,\u001b[0m \u001b[0m_method\u001b[0m\u001b[1;33m=\u001b[0m\u001b[0mmethod\u001b[0m\u001b[1;33m,\u001b[0m \u001b[1;33m*\u001b[0m\u001b[0margs\u001b[0m\u001b[1;33m,\u001b[0m \u001b[1;33m**\u001b[0m\u001b[0mkwargs\u001b[0m\u001b[1;33m)\u001b[0m\u001b[1;33m:\u001b[0m\u001b[1;33m\u001b[0m\u001b[1;33m\u001b[0m\u001b[0m\n\u001b[0;32m    997\u001b[0m         \u001b[0mnv\u001b[0m\u001b[1;33m.\u001b[0m\u001b[0mvalidate_resampler_func\u001b[0m\u001b[1;33m(\u001b[0m\u001b[0m_method\u001b[0m\u001b[1;33m,\u001b[0m \u001b[0margs\u001b[0m\u001b[1;33m,\u001b[0m \u001b[0mkwargs\u001b[0m\u001b[1;33m)\u001b[0m\u001b[1;33m\u001b[0m\u001b[1;33m\u001b[0m\u001b[0m\n\u001b[1;32m--> 998\u001b[1;33m         \u001b[1;32mreturn\u001b[0m \u001b[0mself\u001b[0m\u001b[1;33m.\u001b[0m\u001b[0m_downsample\u001b[0m\u001b[1;33m(\u001b[0m\u001b[0m_method\u001b[0m\u001b[1;33m)\u001b[0m\u001b[1;33m\u001b[0m\u001b[1;33m\u001b[0m\u001b[0m\n\u001b[0m\u001b[0;32m    999\u001b[0m \u001b[1;33m\u001b[0m\u001b[0m\n\u001b[0;32m   1000\u001b[0m     \u001b[0mg\u001b[0m\u001b[1;33m.\u001b[0m\u001b[0m__doc__\u001b[0m \u001b[1;33m=\u001b[0m \u001b[0mgetattr\u001b[0m\u001b[1;33m(\u001b[0m\u001b[0mGroupBy\u001b[0m\u001b[1;33m,\u001b[0m \u001b[0mmethod\u001b[0m\u001b[1;33m)\u001b[0m\u001b[1;33m.\u001b[0m\u001b[0m__doc__\u001b[0m\u001b[1;33m\u001b[0m\u001b[1;33m\u001b[0m\u001b[0m\n",
      "\u001b[1;32mc:\\Users\\roryl\\.conda\\envs\\observational-fear\\lib\\site-packages\\pandas\\core\\resample.py\u001b[0m in \u001b[0;36m_downsample\u001b[1;34m(self, how, **kwargs)\u001b[0m\n\u001b[0;32m   1147\u001b[0m         \u001b[1;31m# we are downsampling\u001b[0m\u001b[1;33m\u001b[0m\u001b[1;33m\u001b[0m\u001b[1;33m\u001b[0m\u001b[0m\n\u001b[0;32m   1148\u001b[0m         \u001b[1;31m# we want to call the actual grouper method here\u001b[0m\u001b[1;33m\u001b[0m\u001b[1;33m\u001b[0m\u001b[1;33m\u001b[0m\u001b[0m\n\u001b[1;32m-> 1149\u001b[1;33m         \u001b[0mresult\u001b[0m \u001b[1;33m=\u001b[0m \u001b[0mobj\u001b[0m\u001b[1;33m.\u001b[0m\u001b[0mgroupby\u001b[0m\u001b[1;33m(\u001b[0m\u001b[0mself\u001b[0m\u001b[1;33m.\u001b[0m\u001b[0mgrouper\u001b[0m\u001b[1;33m,\u001b[0m \u001b[0maxis\u001b[0m\u001b[1;33m=\u001b[0m\u001b[0mself\u001b[0m\u001b[1;33m.\u001b[0m\u001b[0maxis\u001b[0m\u001b[1;33m)\u001b[0m\u001b[1;33m.\u001b[0m\u001b[0maggregate\u001b[0m\u001b[1;33m(\u001b[0m\u001b[0mhow\u001b[0m\u001b[1;33m,\u001b[0m \u001b[1;33m**\u001b[0m\u001b[0mkwargs\u001b[0m\u001b[1;33m)\u001b[0m\u001b[1;33m\u001b[0m\u001b[1;33m\u001b[0m\u001b[0m\n\u001b[0m\u001b[0;32m   1150\u001b[0m \u001b[1;33m\u001b[0m\u001b[0m\n\u001b[0;32m   1151\u001b[0m         \u001b[0mresult\u001b[0m \u001b[1;33m=\u001b[0m \u001b[0mself\u001b[0m\u001b[1;33m.\u001b[0m\u001b[0m_apply_loffset\u001b[0m\u001b[1;33m(\u001b[0m\u001b[0mresult\u001b[0m\u001b[1;33m)\u001b[0m\u001b[1;33m\u001b[0m\u001b[1;33m\u001b[0m\u001b[0m\n",
      "\u001b[1;32mc:\\Users\\roryl\\.conda\\envs\\observational-fear\\lib\\site-packages\\pandas\\core\\groupby\\generic.py\u001b[0m in \u001b[0;36maggregate\u001b[1;34m(self, func, engine, engine_kwargs, *args, **kwargs)\u001b[0m\n\u001b[0;32m    977\u001b[0m \u001b[1;33m\u001b[0m\u001b[0m\n\u001b[0;32m    978\u001b[0m         \u001b[0mop\u001b[0m \u001b[1;33m=\u001b[0m \u001b[0mGroupByApply\u001b[0m\u001b[1;33m(\u001b[0m\u001b[0mself\u001b[0m\u001b[1;33m,\u001b[0m \u001b[0mfunc\u001b[0m\u001b[1;33m,\u001b[0m \u001b[0margs\u001b[0m\u001b[1;33m,\u001b[0m \u001b[0mkwargs\u001b[0m\u001b[1;33m)\u001b[0m\u001b[1;33m\u001b[0m\u001b[1;33m\u001b[0m\u001b[0m\n\u001b[1;32m--> 979\u001b[1;33m         \u001b[0mresult\u001b[0m \u001b[1;33m=\u001b[0m \u001b[0mop\u001b[0m\u001b[1;33m.\u001b[0m\u001b[0magg\u001b[0m\u001b[1;33m(\u001b[0m\u001b[1;33m)\u001b[0m\u001b[1;33m\u001b[0m\u001b[1;33m\u001b[0m\u001b[0m\n\u001b[0m\u001b[0;32m    980\u001b[0m         \u001b[1;32mif\u001b[0m \u001b[1;32mnot\u001b[0m \u001b[0mis_dict_like\u001b[0m\u001b[1;33m(\u001b[0m\u001b[0mfunc\u001b[0m\u001b[1;33m)\u001b[0m \u001b[1;32mand\u001b[0m \u001b[0mresult\u001b[0m \u001b[1;32mis\u001b[0m \u001b[1;32mnot\u001b[0m \u001b[1;32mNone\u001b[0m\u001b[1;33m:\u001b[0m\u001b[1;33m\u001b[0m\u001b[1;33m\u001b[0m\u001b[0m\n\u001b[0;32m    981\u001b[0m             \u001b[1;32mreturn\u001b[0m \u001b[0mresult\u001b[0m\u001b[1;33m\u001b[0m\u001b[1;33m\u001b[0m\u001b[0m\n",
      "\u001b[1;32mc:\\Users\\roryl\\.conda\\envs\\observational-fear\\lib\\site-packages\\pandas\\core\\apply.py\u001b[0m in \u001b[0;36magg\u001b[1;34m(self)\u001b[0m\n\u001b[0;32m    156\u001b[0m \u001b[1;33m\u001b[0m\u001b[0m\n\u001b[0;32m    157\u001b[0m         \u001b[1;32mif\u001b[0m \u001b[0misinstance\u001b[0m\u001b[1;33m(\u001b[0m\u001b[0marg\u001b[0m\u001b[1;33m,\u001b[0m \u001b[0mstr\u001b[0m\u001b[1;33m)\u001b[0m\u001b[1;33m:\u001b[0m\u001b[1;33m\u001b[0m\u001b[1;33m\u001b[0m\u001b[0m\n\u001b[1;32m--> 158\u001b[1;33m             \u001b[1;32mreturn\u001b[0m \u001b[0mself\u001b[0m\u001b[1;33m.\u001b[0m\u001b[0mapply_str\u001b[0m\u001b[1;33m(\u001b[0m\u001b[1;33m)\u001b[0m\u001b[1;33m\u001b[0m\u001b[1;33m\u001b[0m\u001b[0m\n\u001b[0m\u001b[0;32m    159\u001b[0m \u001b[1;33m\u001b[0m\u001b[0m\n\u001b[0;32m    160\u001b[0m         \u001b[1;32mif\u001b[0m \u001b[0mis_dict_like\u001b[0m\u001b[1;33m(\u001b[0m\u001b[0marg\u001b[0m\u001b[1;33m)\u001b[0m\u001b[1;33m:\u001b[0m\u001b[1;33m\u001b[0m\u001b[1;33m\u001b[0m\u001b[0m\n",
      "\u001b[1;32mc:\\Users\\roryl\\.conda\\envs\\observational-fear\\lib\\site-packages\\pandas\\core\\apply.py\u001b[0m in \u001b[0;36mapply_str\u001b[1;34m(self)\u001b[0m\n\u001b[0;32m    505\u001b[0m             \u001b[1;32melif\u001b[0m \u001b[0mself\u001b[0m\u001b[1;33m.\u001b[0m\u001b[0maxis\u001b[0m \u001b[1;33m!=\u001b[0m \u001b[1;36m0\u001b[0m\u001b[1;33m:\u001b[0m\u001b[1;33m\u001b[0m\u001b[1;33m\u001b[0m\u001b[0m\n\u001b[0;32m    506\u001b[0m                 \u001b[1;32mraise\u001b[0m \u001b[0mValueError\u001b[0m\u001b[1;33m(\u001b[0m\u001b[1;34mf\"Operation {f} does not support axis=1\"\u001b[0m\u001b[1;33m)\u001b[0m\u001b[1;33m\u001b[0m\u001b[1;33m\u001b[0m\u001b[0m\n\u001b[1;32m--> 507\u001b[1;33m         \u001b[1;32mreturn\u001b[0m \u001b[0mself\u001b[0m\u001b[1;33m.\u001b[0m\u001b[0m_try_aggregate_string_function\u001b[0m\u001b[1;33m(\u001b[0m\u001b[0mobj\u001b[0m\u001b[1;33m,\u001b[0m \u001b[0mf\u001b[0m\u001b[1;33m,\u001b[0m \u001b[1;33m*\u001b[0m\u001b[0mself\u001b[0m\u001b[1;33m.\u001b[0m\u001b[0margs\u001b[0m\u001b[1;33m,\u001b[0m \u001b[1;33m**\u001b[0m\u001b[0mself\u001b[0m\u001b[1;33m.\u001b[0m\u001b[0mkwargs\u001b[0m\u001b[1;33m)\u001b[0m\u001b[1;33m\u001b[0m\u001b[1;33m\u001b[0m\u001b[0m\n\u001b[0m\u001b[0;32m    508\u001b[0m \u001b[1;33m\u001b[0m\u001b[0m\n\u001b[0;32m    509\u001b[0m     \u001b[1;32mdef\u001b[0m \u001b[0mapply_multiple\u001b[0m\u001b[1;33m(\u001b[0m\u001b[0mself\u001b[0m\u001b[1;33m)\u001b[0m \u001b[1;33m->\u001b[0m \u001b[0mFrameOrSeriesUnion\u001b[0m\u001b[1;33m:\u001b[0m\u001b[1;33m\u001b[0m\u001b[1;33m\u001b[0m\u001b[0m\n",
      "\u001b[1;32mc:\\Users\\roryl\\.conda\\envs\\observational-fear\\lib\\site-packages\\pandas\\core\\apply.py\u001b[0m in \u001b[0;36m_try_aggregate_string_function\u001b[1;34m(self, obj, arg, *args, **kwargs)\u001b[0m\n\u001b[0;32m    575\u001b[0m         \u001b[1;32mif\u001b[0m \u001b[0mf\u001b[0m \u001b[1;32mis\u001b[0m \u001b[1;32mnot\u001b[0m \u001b[1;32mNone\u001b[0m\u001b[1;33m:\u001b[0m\u001b[1;33m\u001b[0m\u001b[1;33m\u001b[0m\u001b[0m\n\u001b[0;32m    576\u001b[0m             \u001b[1;32mif\u001b[0m \u001b[0mcallable\u001b[0m\u001b[1;33m(\u001b[0m\u001b[0mf\u001b[0m\u001b[1;33m)\u001b[0m\u001b[1;33m:\u001b[0m\u001b[1;33m\u001b[0m\u001b[1;33m\u001b[0m\u001b[0m\n\u001b[1;32m--> 577\u001b[1;33m                 \u001b[1;32mreturn\u001b[0m \u001b[0mf\u001b[0m\u001b[1;33m(\u001b[0m\u001b[1;33m*\u001b[0m\u001b[0margs\u001b[0m\u001b[1;33m,\u001b[0m \u001b[1;33m**\u001b[0m\u001b[0mkwargs\u001b[0m\u001b[1;33m)\u001b[0m\u001b[1;33m\u001b[0m\u001b[1;33m\u001b[0m\u001b[0m\n\u001b[0m\u001b[0;32m    578\u001b[0m \u001b[1;33m\u001b[0m\u001b[0m\n\u001b[0;32m    579\u001b[0m             \u001b[1;31m# people may try to aggregate on a non-callable attribute\u001b[0m\u001b[1;33m\u001b[0m\u001b[1;33m\u001b[0m\u001b[1;33m\u001b[0m\u001b[0m\n",
      "\u001b[1;32mc:\\Users\\roryl\\.conda\\envs\\observational-fear\\lib\\site-packages\\pandas\\core\\groupby\\groupby.py\u001b[0m in \u001b[0;36mmean\u001b[1;34m(self, numeric_only)\u001b[0m\n\u001b[0;32m   1688\u001b[0m             \u001b[1;34m\"mean\"\u001b[0m\u001b[1;33m,\u001b[0m\u001b[1;33m\u001b[0m\u001b[1;33m\u001b[0m\u001b[0m\n\u001b[0;32m   1689\u001b[0m             \u001b[0malt\u001b[0m\u001b[1;33m=\u001b[0m\u001b[1;32mlambda\u001b[0m \u001b[0mx\u001b[0m\u001b[1;33m:\u001b[0m \u001b[0mSeries\u001b[0m\u001b[1;33m(\u001b[0m\u001b[0mx\u001b[0m\u001b[1;33m)\u001b[0m\u001b[1;33m.\u001b[0m\u001b[0mmean\u001b[0m\u001b[1;33m(\u001b[0m\u001b[0mnumeric_only\u001b[0m\u001b[1;33m=\u001b[0m\u001b[0mnumeric_only\u001b[0m\u001b[1;33m)\u001b[0m\u001b[1;33m,\u001b[0m\u001b[1;33m\u001b[0m\u001b[1;33m\u001b[0m\u001b[0m\n\u001b[1;32m-> 1690\u001b[1;33m             \u001b[0mnumeric_only\u001b[0m\u001b[1;33m=\u001b[0m\u001b[0mnumeric_only\u001b[0m\u001b[1;33m,\u001b[0m\u001b[1;33m\u001b[0m\u001b[1;33m\u001b[0m\u001b[0m\n\u001b[0m\u001b[0;32m   1691\u001b[0m         )\n\u001b[0;32m   1692\u001b[0m         \u001b[1;32mreturn\u001b[0m \u001b[0mresult\u001b[0m\u001b[1;33m.\u001b[0m\u001b[0m__finalize__\u001b[0m\u001b[1;33m(\u001b[0m\u001b[0mself\u001b[0m\u001b[1;33m.\u001b[0m\u001b[0mobj\u001b[0m\u001b[1;33m,\u001b[0m \u001b[0mmethod\u001b[0m\u001b[1;33m=\u001b[0m\u001b[1;34m\"groupby\"\u001b[0m\u001b[1;33m)\u001b[0m\u001b[1;33m\u001b[0m\u001b[1;33m\u001b[0m\u001b[0m\n",
      "\u001b[1;32mc:\\Users\\roryl\\.conda\\envs\\observational-fear\\lib\\site-packages\\pandas\\core\\groupby\\generic.py\u001b[0m in \u001b[0;36m_cython_agg_general\u001b[1;34m(self, how, alt, numeric_only, min_count)\u001b[0m\n\u001b[0;32m   1080\u001b[0m         \u001b[1;31m# TypeError -> we may have an exception in trying to aggregate\u001b[0m\u001b[1;33m\u001b[0m\u001b[1;33m\u001b[0m\u001b[1;33m\u001b[0m\u001b[0m\n\u001b[0;32m   1081\u001b[0m         \u001b[1;31m#  continue and exclude the block\u001b[0m\u001b[1;33m\u001b[0m\u001b[1;33m\u001b[0m\u001b[1;33m\u001b[0m\u001b[0m\n\u001b[1;32m-> 1082\u001b[1;33m         \u001b[0mnew_mgr\u001b[0m \u001b[1;33m=\u001b[0m \u001b[0mdata\u001b[0m\u001b[1;33m.\u001b[0m\u001b[0mgrouped_reduce\u001b[0m\u001b[1;33m(\u001b[0m\u001b[0marray_func\u001b[0m\u001b[1;33m,\u001b[0m \u001b[0mignore_failures\u001b[0m\u001b[1;33m=\u001b[0m\u001b[1;32mTrue\u001b[0m\u001b[1;33m)\u001b[0m\u001b[1;33m\u001b[0m\u001b[1;33m\u001b[0m\u001b[0m\n\u001b[0m\u001b[0;32m   1083\u001b[0m \u001b[1;33m\u001b[0m\u001b[0m\n\u001b[0;32m   1084\u001b[0m         \u001b[1;32mif\u001b[0m \u001b[0mlen\u001b[0m\u001b[1;33m(\u001b[0m\u001b[0mnew_mgr\u001b[0m\u001b[1;33m)\u001b[0m \u001b[1;33m<\u001b[0m \u001b[0mlen\u001b[0m\u001b[1;33m(\u001b[0m\u001b[0mdata\u001b[0m\u001b[1;33m)\u001b[0m\u001b[1;33m:\u001b[0m\u001b[1;33m\u001b[0m\u001b[1;33m\u001b[0m\u001b[0m\n",
      "\u001b[1;32mc:\\Users\\roryl\\.conda\\envs\\observational-fear\\lib\\site-packages\\pandas\\core\\internals\\managers.py\u001b[0m in \u001b[0;36mgrouped_reduce\u001b[1;34m(self, func, ignore_failures)\u001b[0m\n\u001b[0;32m   1241\u001b[0m             \u001b[1;32melse\u001b[0m\u001b[1;33m:\u001b[0m\u001b[1;33m\u001b[0m\u001b[1;33m\u001b[0m\u001b[0m\n\u001b[0;32m   1242\u001b[0m                 \u001b[1;32mtry\u001b[0m\u001b[1;33m:\u001b[0m\u001b[1;33m\u001b[0m\u001b[1;33m\u001b[0m\u001b[0m\n\u001b[1;32m-> 1243\u001b[1;33m                     \u001b[0mapplied\u001b[0m \u001b[1;33m=\u001b[0m \u001b[0mblk\u001b[0m\u001b[1;33m.\u001b[0m\u001b[0mapply\u001b[0m\u001b[1;33m(\u001b[0m\u001b[0mfunc\u001b[0m\u001b[1;33m)\u001b[0m\u001b[1;33m\u001b[0m\u001b[1;33m\u001b[0m\u001b[0m\n\u001b[0m\u001b[0;32m   1244\u001b[0m                 \u001b[1;32mexcept\u001b[0m \u001b[1;33m(\u001b[0m\u001b[0mTypeError\u001b[0m\u001b[1;33m,\u001b[0m \u001b[0mNotImplementedError\u001b[0m\u001b[1;33m)\u001b[0m\u001b[1;33m:\u001b[0m\u001b[1;33m\u001b[0m\u001b[1;33m\u001b[0m\u001b[0m\n\u001b[0;32m   1245\u001b[0m                     \u001b[1;32mif\u001b[0m \u001b[1;32mnot\u001b[0m \u001b[0mignore_failures\u001b[0m\u001b[1;33m:\u001b[0m\u001b[1;33m\u001b[0m\u001b[1;33m\u001b[0m\u001b[0m\n",
      "\u001b[1;32mc:\\Users\\roryl\\.conda\\envs\\observational-fear\\lib\\site-packages\\pandas\\core\\internals\\blocks.py\u001b[0m in \u001b[0;36mapply\u001b[1;34m(self, func, **kwargs)\u001b[0m\n\u001b[0;32m    379\u001b[0m         \"\"\"\n\u001b[0;32m    380\u001b[0m         \u001b[1;32mwith\u001b[0m \u001b[0mnp\u001b[0m\u001b[1;33m.\u001b[0m\u001b[0merrstate\u001b[0m\u001b[1;33m(\u001b[0m\u001b[0mall\u001b[0m\u001b[1;33m=\u001b[0m\u001b[1;34m\"ignore\"\u001b[0m\u001b[1;33m)\u001b[0m\u001b[1;33m:\u001b[0m\u001b[1;33m\u001b[0m\u001b[1;33m\u001b[0m\u001b[0m\n\u001b[1;32m--> 381\u001b[1;33m             \u001b[0mresult\u001b[0m \u001b[1;33m=\u001b[0m \u001b[0mfunc\u001b[0m\u001b[1;33m(\u001b[0m\u001b[0mself\u001b[0m\u001b[1;33m.\u001b[0m\u001b[0mvalues\u001b[0m\u001b[1;33m,\u001b[0m \u001b[1;33m**\u001b[0m\u001b[0mkwargs\u001b[0m\u001b[1;33m)\u001b[0m\u001b[1;33m\u001b[0m\u001b[1;33m\u001b[0m\u001b[0m\n\u001b[0m\u001b[0;32m    382\u001b[0m \u001b[1;33m\u001b[0m\u001b[0m\n\u001b[0;32m    383\u001b[0m         \u001b[1;32mreturn\u001b[0m \u001b[0mself\u001b[0m\u001b[1;33m.\u001b[0m\u001b[0m_split_op_result\u001b[0m\u001b[1;33m(\u001b[0m\u001b[0mresult\u001b[0m\u001b[1;33m)\u001b[0m\u001b[1;33m\u001b[0m\u001b[1;33m\u001b[0m\u001b[0m\n",
      "\u001b[1;32mc:\\Users\\roryl\\.conda\\envs\\observational-fear\\lib\\site-packages\\pandas\\core\\groupby\\generic.py\u001b[0m in \u001b[0;36marray_func\u001b[1;34m(values)\u001b[0m\n\u001b[0;32m   1067\u001b[0m             \u001b[1;32mtry\u001b[0m\u001b[1;33m:\u001b[0m\u001b[1;33m\u001b[0m\u001b[1;33m\u001b[0m\u001b[0m\n\u001b[0;32m   1068\u001b[0m                 result = self.grouper._cython_operation(\n\u001b[1;32m-> 1069\u001b[1;33m                     \u001b[1;34m\"aggregate\"\u001b[0m\u001b[1;33m,\u001b[0m \u001b[0mvalues\u001b[0m\u001b[1;33m,\u001b[0m \u001b[0mhow\u001b[0m\u001b[1;33m,\u001b[0m \u001b[0maxis\u001b[0m\u001b[1;33m=\u001b[0m\u001b[0mdata\u001b[0m\u001b[1;33m.\u001b[0m\u001b[0mndim\u001b[0m \u001b[1;33m-\u001b[0m \u001b[1;36m1\u001b[0m\u001b[1;33m,\u001b[0m \u001b[0mmin_count\u001b[0m\u001b[1;33m=\u001b[0m\u001b[0mmin_count\u001b[0m\u001b[1;33m\u001b[0m\u001b[1;33m\u001b[0m\u001b[0m\n\u001b[0m\u001b[0;32m   1070\u001b[0m                 )\n\u001b[0;32m   1071\u001b[0m             \u001b[1;32mexcept\u001b[0m \u001b[0mNotImplementedError\u001b[0m\u001b[1;33m:\u001b[0m\u001b[1;33m\u001b[0m\u001b[1;33m\u001b[0m\u001b[0m\n",
      "\u001b[1;32mc:\\Users\\roryl\\.conda\\envs\\observational-fear\\lib\\site-packages\\pandas\\core\\groupby\\ops.py\u001b[0m in \u001b[0;36m_cython_operation\u001b[1;34m(self, kind, values, how, axis, min_count, **kwargs)\u001b[0m\n\u001b[0;32m   1003\u001b[0m             \u001b[0mcomp_ids\u001b[0m\u001b[1;33m=\u001b[0m\u001b[0mids\u001b[0m\u001b[1;33m,\u001b[0m\u001b[1;33m\u001b[0m\u001b[1;33m\u001b[0m\u001b[0m\n\u001b[0;32m   1004\u001b[0m             \u001b[0mngroups\u001b[0m\u001b[1;33m=\u001b[0m\u001b[0mngroups\u001b[0m\u001b[1;33m,\u001b[0m\u001b[1;33m\u001b[0m\u001b[1;33m\u001b[0m\u001b[0m\n\u001b[1;32m-> 1005\u001b[1;33m             \u001b[1;33m**\u001b[0m\u001b[0mkwargs\u001b[0m\u001b[1;33m,\u001b[0m\u001b[1;33m\u001b[0m\u001b[1;33m\u001b[0m\u001b[0m\n\u001b[0m\u001b[0;32m   1006\u001b[0m         )\n\u001b[0;32m   1007\u001b[0m \u001b[1;33m\u001b[0m\u001b[0m\n",
      "\u001b[1;32mc:\\Users\\roryl\\.conda\\envs\\observational-fear\\lib\\site-packages\\pandas\\core\\groupby\\ops.py\u001b[0m in \u001b[0;36mcython_operation\u001b[1;34m(self, values, axis, min_count, comp_ids, ngroups, **kwargs)\u001b[0m\n\u001b[0;32m    664\u001b[0m             \u001b[0mcomp_ids\u001b[0m\u001b[1;33m=\u001b[0m\u001b[0mcomp_ids\u001b[0m\u001b[1;33m,\u001b[0m\u001b[1;33m\u001b[0m\u001b[1;33m\u001b[0m\u001b[0m\n\u001b[0;32m    665\u001b[0m             \u001b[0mmask\u001b[0m\u001b[1;33m=\u001b[0m\u001b[1;32mNone\u001b[0m\u001b[1;33m,\u001b[0m\u001b[1;33m\u001b[0m\u001b[1;33m\u001b[0m\u001b[0m\n\u001b[1;32m--> 666\u001b[1;33m             \u001b[1;33m**\u001b[0m\u001b[0mkwargs\u001b[0m\u001b[1;33m,\u001b[0m\u001b[1;33m\u001b[0m\u001b[1;33m\u001b[0m\u001b[0m\n\u001b[0m\u001b[0;32m    667\u001b[0m         )\n\u001b[0;32m    668\u001b[0m \u001b[1;33m\u001b[0m\u001b[0m\n",
      "\u001b[1;32mc:\\Users\\roryl\\.conda\\envs\\observational-fear\\lib\\site-packages\\pandas\\core\\groupby\\ops.py\u001b[0m in \u001b[0;36m_cython_op_ndim_compat\u001b[1;34m(self, values, min_count, ngroups, comp_ids, mask, **kwargs)\u001b[0m\n\u001b[0;32m    520\u001b[0m             \u001b[0mcomp_ids\u001b[0m\u001b[1;33m=\u001b[0m\u001b[0mcomp_ids\u001b[0m\u001b[1;33m,\u001b[0m\u001b[1;33m\u001b[0m\u001b[1;33m\u001b[0m\u001b[0m\n\u001b[0;32m    521\u001b[0m             \u001b[0mmask\u001b[0m\u001b[1;33m=\u001b[0m\u001b[0mmask\u001b[0m\u001b[1;33m,\u001b[0m\u001b[1;33m\u001b[0m\u001b[1;33m\u001b[0m\u001b[0m\n\u001b[1;32m--> 522\u001b[1;33m             \u001b[1;33m**\u001b[0m\u001b[0mkwargs\u001b[0m\u001b[1;33m,\u001b[0m\u001b[1;33m\u001b[0m\u001b[1;33m\u001b[0m\u001b[0m\n\u001b[0m\u001b[0;32m    523\u001b[0m         )\n\u001b[0;32m    524\u001b[0m \u001b[1;33m\u001b[0m\u001b[0m\n",
      "\u001b[1;32mc:\\Users\\roryl\\.conda\\envs\\observational-fear\\lib\\site-packages\\pandas\\core\\groupby\\ops.py\u001b[0m in \u001b[0;36m_call_cython_op\u001b[1;34m(self, values, min_count, ngroups, comp_ids, mask, **kwargs)\u001b[0m\n\u001b[0;32m    573\u001b[0m                     \u001b[0mcomp_ids\u001b[0m\u001b[1;33m,\u001b[0m\u001b[1;33m\u001b[0m\u001b[1;33m\u001b[0m\u001b[0m\n\u001b[0;32m    574\u001b[0m                     \u001b[0mmin_count\u001b[0m\u001b[1;33m,\u001b[0m\u001b[1;33m\u001b[0m\u001b[1;33m\u001b[0m\u001b[0m\n\u001b[1;32m--> 575\u001b[1;33m                     \u001b[0mis_datetimelike\u001b[0m\u001b[1;33m=\u001b[0m\u001b[0mis_datetimelike\u001b[0m\u001b[1;33m,\u001b[0m\u001b[1;33m\u001b[0m\u001b[1;33m\u001b[0m\u001b[0m\n\u001b[0m\u001b[0;32m    576\u001b[0m                 )\n\u001b[0;32m    577\u001b[0m             \u001b[1;32melse\u001b[0m\u001b[1;33m:\u001b[0m\u001b[1;33m\u001b[0m\u001b[1;33m\u001b[0m\u001b[0m\n",
      "\u001b[1;31mKeyboardInterrupt\u001b[0m: "
     ]
    }
   ],
   "source": [
    "mice = load_mouse_names(DATA_DIR)\n",
    "\n",
    "session = \"day4\"\n",
    "name=\"Freeze Day4\"\n",
    "sampling_interval=\"200ms\"\n",
    "traces_by_mouse = load_traces_wide_by_mouse(\n",
    "    data_dir=DATA_DIR,\n",
    "    session=session,\n",
    "    sampling_interval=sampling_interval,\n",
    ")\n",
    "freeze_by_mouse = load_freeze_status_by_mouse(\n",
    "    data_dir=DATA_DIR,\n",
    "    session=session,\n",
    "    sampling_interval=sampling_interval,\n",
    ")\n",
    "\n",
    "pipe = make_pipeline(StandardScaler(), LogisticRegression(max_iter=200))\n",
    "\n",
    "df_res, df_reps = all_time_decoding(traces_by_mouse, freeze_by_mouse, n_reps=N_REPS)\n",
    "\n",
    "plot_results(df_reps, df_res, name=name)\n",
    "save_results(df_reps, df_res, name, OUTDIR)\n",
    "plt.savefig(OUTDIR / f\"{name}.svg\")"
   ]
  },
  {
   "cell_type": "code",
   "execution_count": null,
   "metadata": {},
   "outputs": [],
   "source": [
    "load_block_status_by_mouse"
   ]
  }
 ],
 "metadata": {
  "interpreter": {
   "hash": "db8c8e92eda8f5b42ff04bc066bf8085628d0542e885e89a7e4de00fa8904b0d"
  },
  "kernelspec": {
   "display_name": "Python 3.7.11 ('observational-fear')",
   "language": "python",
   "name": "python3"
  },
  "language_info": {
   "codemirror_mode": {
    "name": "ipython",
    "version": 3
   },
   "file_extension": ".py",
   "mimetype": "text/x-python",
   "name": "python",
   "nbconvert_exporter": "python",
   "pygments_lexer": "ipython3",
   "version": "3.7.11"
  },
  "orig_nbformat": 4
 },
 "nbformat": 4,
 "nbformat_minor": 2
}
