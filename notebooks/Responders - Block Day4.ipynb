{
 "cells": [
  {
   "cell_type": "code",
   "execution_count": 1,
   "metadata": {},
   "outputs": [],
   "source": [
    "import observational_fear.load as load\n",
    "from observational_fear.nbox_transforms import summarize_prepost_events, wilcoxon_by_cell\n",
    "from observational_fear.events import get_block_starts\n",
    "from observational_fear.stats import auc\n",
    "from neurobox.wide_transforms import resample\n",
    "from pathlib import Path\n",
    "\n",
    "\n",
    "DATA_DIR = Path(r\"D:\\OFL\\one-p experiment\\data\")\n",
    "FIG_DIR = Path(r\"C:\\Users\\roryl\\repos\\observational-fear\\figs\")"
   ]
  },
  {
   "cell_type": "code",
   "execution_count": 2,
   "metadata": {},
   "outputs": [
    {
     "name": "stderr",
     "output_type": "stream",
     "text": [
      "c:\\users\\roryl\\repos\\neurobox\\neurobox\\wide_transforms.py:99: PerformanceWarning: DataFrame is highly fragmented.  This is usually the result of calling `frame.insert` many times, which has poor performance.  Consider joining all columns at once using pd.concat(axis=1) instead.  To get a de-fragmented frame, use `newframe = frame.copy()`\n",
      "  df[\"time\"] = pd.to_timedelta(df.index, unit=\"s\")\n"
     ]
    }
   ],
   "source": [
    "SESSION = \"day4\"\n",
    "df = load.load_traces(DATA_DIR, session=SESSION)\n",
    "df = resample(df.set_index(\"time\"), \"100ms\")\n",
    "df = df.reset_index().melt(id_vars=[\"time\"])"
   ]
  },
  {
   "cell_type": "code",
   "execution_count": 3,
   "metadata": {},
   "outputs": [
    {
     "name": "stdout",
     "output_type": "stream",
     "text": [
      "Num Responders: 866 (70.57864710676446%)\n"
     ]
    }
   ],
   "source": [
    "events = get_block_starts(SESSION, \"US\")\n",
    "df_res = summarize_prepost_events(\n",
    "    df=df, \n",
    "    events=events,\n",
    "    t_before=5, \n",
    "    t_after=2,\n",
    "    summary_func=auc,\n",
    "    cell_col=\"new_id\"\n",
    "    )\n",
    "\n",
    "df_res = wilcoxon_by_cell(df_res, cell_col=\"new_id\")\n",
    "pct = (df_res.p < 0.05).mean() * 100\n",
    "num = (df_res.p < 0.05).sum()\n",
    "print(f\"Num Responders: {num} ({pct}%)\")"
   ]
  },
  {
   "cell_type": "code",
   "execution_count": 4,
   "metadata": {},
   "outputs": [],
   "source": [
    "df_res.reset_index().assign(block=\"US\").to_csv(DATA_DIR / \"day4-block-responders.csv\", index=False)"
   ]
  },
  {
   "cell_type": "code",
   "execution_count": null,
   "metadata": {},
   "outputs": [],
   "source": []
  }
 ],
 "metadata": {
  "interpreter": {
   "hash": "3a8e119cf53ab9b37a51e903f8a5ac94bb56fa8ae994ac5c8f462adfdd95f38b"
  },
  "kernelspec": {
   "display_name": "Python 3.7.11 64-bit ('observational-fear': conda)",
   "name": "python3"
  },
  "language_info": {
   "codemirror_mode": {
    "name": "ipython",
    "version": 3
   },
   "file_extension": ".py",
   "mimetype": "text/x-python",
   "name": "python",
   "nbconvert_exporter": "python",
   "pygments_lexer": "ipython3",
   "version": "3.7.11"
  },
  "orig_nbformat": 4
 },
 "nbformat": 4,
 "nbformat_minor": 2
}
