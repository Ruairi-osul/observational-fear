{
 "cells": [
  {
   "cell_type": "code",
   "execution_count": 4,
   "metadata": {},
   "outputs": [],
   "source": [
    "from pathlib import Path\n",
    "import numpy as np\n",
    "import pandas as pd\n",
    "import matplotlib.pyplot as plt\n",
    "import seaborn as sns\n",
    "from tqdm.notebook import tqdm\n",
    "\n",
    "from observational_fear import load\n",
    "from observational_fear.events import get_block_starts\n",
    "\n",
    "from binit.bin import which_bin_idx\n",
    "from binit.align import align_around\n",
    "from neurobox.correlations import pairwise_correlation, correlation_matrix_to_tidy\n",
    "from neurobox.wide_transforms import resample\n",
    "from observational_fear.nbox_transforms import summarize_prepost_events\n",
    "from observational_fear.stats import auc\n",
    "\n",
    "\n",
    "\n",
    "DATA_DIR = Path(r\"F:\\OFL\\one-p experiment\\data\")\n",
    "FIG_DIR = Path(r\"C:\\Users\\roryl\\repos\\observational-fear\\figs\")"
   ]
  },
  {
   "cell_type": "code",
   "execution_count": 14,
   "metadata": {},
   "outputs": [],
   "source": [
    "def corr_by_trial(\n",
    "    df, events, time_before=0, time_after=5, time_col=\"time\",\n",
    "):\n",
    "    def correlate(df, time_col=\"aligned\", neuron_col=\"new_id\", value_col=\"value\"):\n",
    "        df_piv = df.pivot(index=time_col, columns=neuron_col, values=value_col)\n",
    "        df_corr = pairwise_correlation(df_piv, rectify=False, zero_diag=True)\n",
    "        df_tidy = correlation_matrix_to_tidy(df_corr)\n",
    "        out = dict(mean_correlation=df_tidy[\"value\"].abs().mean(), sem=df_tidy[\"value\"].abs().std() / np.sqrt(len(df_tidy[\"value\"])))\n",
    "        return pd.Series(out)\n",
    "\n",
    "    df[\"trial_idx\"] = which_bin_idx(\n",
    "        df[time_col].values,\n",
    "        bin_edges=events,\n",
    "        time_before=time_before,\n",
    "        time_after=time_after,\n",
    "    )\n",
    "    df[\"aligned\"] = align_around(\n",
    "        df[time_col].values, events, t_before=time_before, max_latency=time_after\n",
    "    )\n",
    "    df[\"aligned\"] = np.round(df[\"aligned\"], 2)\n",
    "    return (\n",
    "        df.groupby(\"trial_idx\")\n",
    "        .apply(correlate)\n",
    "        .reset_index()\n",
    "    )\n",
    "\n",
    "\n",
    "def run_corr_by_trial(data_dir, session, block, coreg_only):\n",
    "    df_traces = load.load_traces_long(session=session, data_dir=data_dir, coreg_only=coreg_only)\n",
    "    events = get_block_starts(session=session, block_name=block)\n",
    "    res_pre = corr_by_trial(\n",
    "        df_traces, events, time_before=5, time_after=0, time_col=\"time\",\n",
    "    ).assign(prepost=\"pre\")\n",
    "    res_post = corr_by_trial(\n",
    "        df_traces, events, time_before=0, time_after=5, time_col=\"time\",\n",
    "    ).assign(prepost=\"post\")\n",
    "    return pd.concat([res_pre, res_post]).assign(block=block, session=session)\n",
    "\n",
    "\n",
    "def run_prepost_by_trial(data_dir, session, block, coreg_only):\n",
    "    df_traces = load.load_traces_long(session=session, data_dir=data_dir, coreg_only=coreg_only)\n",
    "    events = get_block_starts(session=session, block_name=block)\n",
    "    df_res = summarize_prepost_events(\n",
    "        df=df_traces,\n",
    "        events=events,\n",
    "        t_before=5,\n",
    "        t_after=5,\n",
    "        summary_func=auc,\n",
    "        cell_col=\"new_id\",\n",
    "    )\n",
    "    df_res = pd.melt(\n",
    "        df_res, id_vars=[\"_trial\", \"new_id\"], var_name=\"prepost\", value_name=\"auc\"\n",
    "    ).pivot(index=\"_trial\", columns=[\"prepost\", \"new_id\"], values=\"auc\")\n",
    "    return df_res"
   ]
  },
  {
   "cell_type": "code",
   "execution_count": 15,
   "metadata": {},
   "outputs": [
    {
     "data": {
      "text/plain": [
       "WindowsPath('F:/OFL/one-p experiment/data')"
      ]
     },
     "execution_count": 15,
     "metadata": {},
     "output_type": "execute_result"
    }
   ],
   "source": [
    "DATA_DIR"
   ]
  },
  {
   "cell_type": "code",
   "execution_count": 18,
   "metadata": {},
   "outputs": [
    {
     "data": {
      "application/vnd.jupyter.widget-view+json": {
       "model_id": "0e34eb8bc3a24ca88c6d8916ff733c8b",
       "version_major": 2,
       "version_minor": 0
      },
      "text/plain": [
       "  0%|          | 0/3 [00:00<?, ?it/s]"
      ]
     },
     "metadata": {},
     "output_type": "display_data"
    }
   ],
   "source": [
    "derived_data_dir = DATA_DIR / \"derived\" / \"correlations\"\n",
    "derived_data_dir.mkdir(exist_ok=True)\n",
    "\n",
    "exports = [\n",
    "    dict(session=\"day2\", block=\"CS\", coreg=False),\n",
    "    dict(session=\"day2\", block=\"US\", coreg=True),\n",
    "    dict(session=\"day4\", block=\"US\", coreg=True),\n",
    "]\n",
    "\n",
    "for export in tqdm(exports):\n",
    "    res = run_prepost_by_trial(data_dir=DATA_DIR, session=export[\"session\"], block=export[\"block\"], coreg_only=export[\"coreg\"])\n",
    "    res.to_csv(derived_data_dir / f\"AUC PrePost By Trial - {export['session']} - {export['block']}.csv\")"
   ]
  },
  {
   "cell_type": "code",
   "execution_count": 19,
   "metadata": {},
   "outputs": [
    {
     "data": {
      "application/vnd.jupyter.widget-view+json": {
       "model_id": "fb67c45ef6854b41bae24910365ae3a8",
       "version_major": 2,
       "version_minor": 0
      },
      "text/plain": [
       "  0%|          | 0/3 [00:00<?, ?it/s]"
      ]
     },
     "metadata": {},
     "output_type": "display_data"
    }
   ],
   "source": [
    "df_list = []\n",
    "for export in tqdm(exports):\n",
    "    df_list.append(run_corr_by_trial(data_dir=DATA_DIR, session=export[\"session\"], block=export[\"block\"], coreg_only=export[\"coreg\"]))\n",
    "\n",
    "df = pd.concat(df_list).reset_index(drop=True)\n",
    "\n",
    "df.to_csv(derived_data_dir / f\"Correlations by Trial.csv\")"
   ]
  },
  {
   "cell_type": "code",
   "execution_count": null,
   "metadata": {},
   "outputs": [],
   "source": []
  }
 ],
 "metadata": {
  "interpreter": {
   "hash": "3a8e119cf53ab9b37a51e903f8a5ac94bb56fa8ae994ac5c8f462adfdd95f38b"
  },
  "kernelspec": {
   "display_name": "Python 3.7.11 ('observational-fear')",
   "language": "python",
   "name": "python3"
  },
  "language_info": {
   "codemirror_mode": {
    "name": "ipython",
    "version": 3
   },
   "file_extension": ".py",
   "mimetype": "text/x-python",
   "name": "python",
   "nbconvert_exporter": "python",
   "pygments_lexer": "ipython3",
   "version": "3.7.11"
  },
  "orig_nbformat": 4
 },
 "nbformat": 4,
 "nbformat_minor": 2
}
