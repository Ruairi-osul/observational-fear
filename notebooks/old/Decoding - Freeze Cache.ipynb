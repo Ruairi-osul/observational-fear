{
 "cells": [
  {
   "cell_type": "code",
   "execution_count": 1,
   "metadata": {},
   "outputs": [],
   "source": [
    "import observational_fear.load as load\n",
    "from observational_fear.events import get_freeze_starts\n",
    "from neurobox.wide_transforms import resample\n",
    "from neurobox.compose import Pipeline\n",
    "from observational_fear.nbox_transforms import (\n",
    "    align_to_data_by,\n",
    "    exclude_short_trials,\n",
    ")\n",
    "import pandas as pd\n",
    "from observational_fear.stats import auc\n",
    "from pathlib import Path\n",
    "from observational_fear.events import get_freeze_stops\n",
    "import numpy as np\n",
    "\n",
    "\n",
    "DATA_DIR = Path(r\"F:\\OFL\\one-p experiment\\data\")\n",
    "cache_dir = DATA_DIR / \"cached\"\n",
    "FIG_DIR = Path(r\"C:\\Users\\roryl\\repos\\observational-fear\\figs\")"
   ]
  },
  {
   "cell_type": "code",
   "execution_count": 2,
   "metadata": {},
   "outputs": [],
   "source": [
    "def get_traces(data_dir, session):\n",
    "    df_cells = load.load_cells(data_dir)\n",
    "    df_cells[\"new_id\"] = df_cells[\"new_id\"].astype(\"str\")\n",
    "    df_traces = load.load_traces(data_dir, session=session)\n",
    "    df_traces = resample(df_traces.set_index(\"time\").copy(), \"100ms\")\n",
    "    df_traces = df_traces.reset_index().melt(id_vars=[\"time\"]).merge(df_cells)\n",
    "    return df_traces\n",
    "\n",
    "\n",
    "def get_freezes(data_dir, session, start_stop=\"start\", role=\"obs\"):\n",
    "    if session == \"day2\":\n",
    "        freeze_col = f\"was_freezing_{role}\"\n",
    "        df_freeze = load.load_freeze(data_dir, session=session)\n",
    "    else:\n",
    "        freeze_col = \"was_freezing\"\n",
    "        df_freeze = load.load_behaviour(data_dir, session=session)\n",
    "    if start_stop == \"start\":\n",
    "        freeze_func = get_freeze_starts\n",
    "    elif start_stop == \"stop\":\n",
    "        freeze_func = get_freeze_stops\n",
    "    else:\n",
    "        raise ValueError(\"start stop not specified\")\n",
    "    df_events = freeze_func(df_freeze, freeze_col=freeze_col, mouse_col=\"mouse_name\")\n",
    "    df_events = df_events.rename(columns={\"mouse_name\": \"mouse\"})\n",
    "    return df_events\n",
    "\n",
    "def get_dummy_freezes(data_dir, session, start_stop=\"start\", role=\"obs\", max_time = 2150):\n",
    "    return (\n",
    "        get_freezes(data_dir, session, start_stop=start_stop, role=role)\n",
    "        .groupby(\"mouse\", as_index=False)\n",
    "        .apply(lambda x: pd.Series({f\"freeze_{start_stop}\": np.round(np.random.rand(len(x)) * max_time, 2)}))\n",
    "        .explode(f\"freeze_{start_stop}\")\n",
    "        .assign(**{f\"freeze_{start_stop}\": lambda x: x[f\"freeze_{start_stop}\"].astype(\"float64\")})\n",
    "        .sort_values([\"mouse\", f\"freeze_{start_stop}\"])\n",
    "        .reset_index(drop=True)\n",
    "    )\n",
    "\n",
    "def align_traces_to_freeze(\n",
    "    session, start_stop, time_before=5, time_after=5, role=\"obs\", dummy=False,\n",
    "):\n",
    "    if not dummy:\n",
    "        freeze_getter = get_freezes\n",
    "    else:\n",
    "        freeze_getter = get_dummy_freezes\n",
    "    df_traces = get_traces(data_dir=DATA_DIR, session=session)\n",
    "    df_events = freeze_getter(DATA_DIR, session=session, role=role, start_stop=start_stop)\n",
    "    aligned = align_to_data_by(\n",
    "        df_data=df_traces,\n",
    "        df_data_time_col=\"time\",\n",
    "        df_data_cell_col=\"new_id\",\n",
    "        df_data_value_col=\"value\",\n",
    "        df_data_group_col=\"mouse\",\n",
    "        df_events=df_events,\n",
    "        df_events_timestamp_col=f\"freeze_{start_stop}\",\n",
    "        df_events_group_colname=\"mouse\",\n",
    "        precision=1,\n",
    "        time_before_event=time_before,\n",
    "        time_after_event=time_after,\n",
    "    )\n",
    "    # aligned = exclude_short_trials(\n",
    "    #     df=aligned,\n",
    "    #     trial_col=\"event\",\n",
    "    #     min_bins_pre_event=40,\n",
    "    #     min_bins_post_event=40,\n",
    "    #     cell_col=\"new_id\",\n",
    "    # )\n",
    "    return aligned\n",
    "\n",
    "def save_cache(df: pd.DataFrame, fname: str, cache_dir: Path):\n",
    "    df.to_parquet(cache_dir / f\"{fname}.parquet.gzip\", compression=\"gzip\", index=False)\n",
    "    "
   ]
  },
  {
   "cell_type": "code",
   "execution_count": 8,
   "metadata": {},
   "outputs": [
    {
     "name": "stdout",
     "output_type": "stream",
     "text": [
      "mouse            object\n",
      "freeze_start    float64\n",
      "dtype: object\n",
      "mouse           object\n",
      "freeze_stop    float64\n",
      "dtype: object\n"
     ]
    }
   ],
   "source": [
    "day2_even = align_traces_to_freeze(\"day2\", start_stop=\"start\", time_before=5, time_after=5, role=\"obs\")\n",
    "save_cache(day2_even, fname=\"day2_freeze_start_even\", cache_dir=cache_dir)\n",
    "\n",
    "day2_even = align_traces_to_freeze(\"day2\", start_stop=\"stop\", time_before=5, time_after=5, role=\"obs\")\n",
    "save_cache(day2_even, fname=\"day2_freeze_stop_even\", cache_dir=cache_dir)"
   ]
  },
  {
   "cell_type": "code",
   "execution_count": 9,
   "metadata": {},
   "outputs": [
    {
     "name": "stdout",
     "output_type": "stream",
     "text": [
      "mouse            object\n",
      "freeze_start    float64\n",
      "dtype: object\n",
      "mouse           object\n",
      "freeze_stop    float64\n",
      "dtype: object\n"
     ]
    }
   ],
   "source": [
    "day4_even = align_traces_to_freeze(\"day4\", start_stop=\"start\", time_before=5, time_after=5, role=\"obs\")\n",
    "save_cache(day4_even, fname=\"day4_freeze_start_even\", cache_dir=cache_dir)\n",
    "\n",
    "day4_even = align_traces_to_freeze(\"day4\", start_stop=\"stop\", time_before=5, time_after=5, role=\"obs\")\n",
    "save_cache(day4_even, fname=\"day4_freeze_stop_even\", cache_dir=cache_dir)"
   ]
  },
  {
   "cell_type": "code",
   "execution_count": 10,
   "metadata": {},
   "outputs": [
    {
     "name": "stdout",
     "output_type": "stream",
     "text": [
      "mouse            object\n",
      "freeze_start    float64\n",
      "dtype: object\n",
      "mouse           object\n",
      "freeze_stop    float64\n",
      "dtype: object\n"
     ]
    }
   ],
   "source": [
    "day2_even = align_traces_to_freeze(\"day2\", start_stop=\"start\", time_before=5, time_after=5, role=\"obs\", dummy=True)\n",
    "save_cache(day2_even, fname=\"day2_freeze_start_even_dummy\", cache_dir=cache_dir)\n",
    "\n",
    "day2_even = align_traces_to_freeze(\"day2\", start_stop=\"stop\", time_before=5, time_after=5, role=\"obs\", dummy=True)\n",
    "save_cache(day2_even, fname=\"day2_freeze_stop_even_dummy\", cache_dir=cache_dir)"
   ]
  },
  {
   "cell_type": "code",
   "execution_count": 11,
   "metadata": {},
   "outputs": [
    {
     "name": "stdout",
     "output_type": "stream",
     "text": [
      "mouse            object\n",
      "freeze_start    float64\n",
      "dtype: object\n",
      "mouse           object\n",
      "freeze_stop    float64\n",
      "dtype: object\n"
     ]
    }
   ],
   "source": [
    "day2_even = align_traces_to_freeze(\"day4\", start_stop=\"start\", time_before=5, time_after=5, role=\"obs\", dummy=True)\n",
    "save_cache(day2_even, fname=\"day4_freeze_start_even_dummy\", cache_dir=cache_dir)\n",
    "\n",
    "day2_even = align_traces_to_freeze(\"day4\", start_stop=\"stop\", time_before=5, time_after=5, role=\"obs\", dummy=True)\n",
    "save_cache(day2_even, fname=\"day4_freeze_stop_even_dummy\", cache_dir=cache_dir)"
   ]
  },
  {
   "cell_type": "code",
   "execution_count": null,
   "metadata": {},
   "outputs": [],
   "source": []
  }
 ],
 "metadata": {
  "interpreter": {
   "hash": "3a8e119cf53ab9b37a51e903f8a5ac94bb56fa8ae994ac5c8f462adfdd95f38b"
  },
  "kernelspec": {
   "display_name": "Python 3.7.11 ('observational-fear')",
   "language": "python",
   "name": "python3"
  },
  "language_info": {
   "codemirror_mode": {
    "name": "ipython",
    "version": 3
   },
   "file_extension": ".py",
   "mimetype": "text/x-python",
   "name": "python",
   "nbconvert_exporter": "python",
   "pygments_lexer": "ipython3",
   "version": "3.7.11"
  },
  "orig_nbformat": 4
 },
 "nbformat": 4,
 "nbformat_minor": 2
}
