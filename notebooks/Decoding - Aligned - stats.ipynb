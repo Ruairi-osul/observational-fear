{
 "cells": [
  {
   "cell_type": "code",
   "execution_count": 1,
   "metadata": {},
   "outputs": [],
   "source": [
    "import pandas as pd\n",
    "import seaborn as sns\n",
    "import matplotlib.pyplot as plt\n",
    "import numpy as np\n",
    "from scipy.stats import mannwhitneyu\n",
    "from observational_fear.stats import p_adjust, auc\n",
    "\n",
    "from pathlib import Path\n",
    "\n",
    "DATA_DIR = Path(r\"F:\\OFL\\one-p experiment\\data\")\n",
    "FIG_DIR = Path(r\"C:\\Users\\roryl\\repos\\observational-fear\\figs\")\n",
    "SAVE_DIR = DATA_DIR / \"derived\" / \"decoding-aligned\""
   ]
  },
  {
   "cell_type": "code",
   "execution_count": 2,
   "metadata": {},
   "outputs": [],
   "source": [
    "def compare_by_group(df, group_col, value_col):\n",
    "    groups = df[group_col].unique()\n",
    "    assert len(groups) == 2, \"Too many groups\"\n",
    "    x = df[df[group_col] == groups[0]][value_col].values\n",
    "    y = df[df[group_col] == groups[1]][value_col].values\n",
    "    u, p = mannwhitneyu(x, y)\n",
    "    return pd.Series(dict(u=u, p=p))\n",
    "\n",
    "\n",
    "def compare_auc_at_intervals(df, auc_intervals):\n",
    "    out = []\n",
    "    for t_start, t_stop in auc_intervals:\n",
    "        df_sub = df.loc[lambda x: (x.offset > t_start) & (x.offset < t_stop)]\n",
    "        res = df_sub.groupby([\"config\", \"shuffle\"])[\"f1score\"].apply(auc).reset_index()\n",
    "        ser = compare_by_group(res, group_col=\"config\", value_col=\"f1score\")\n",
    "        ser[\"t_start\"] = t_start\n",
    "        ser[\"t_stop\"] = t_stop\n",
    "        out.append(ser)\n",
    "    return pd.DataFrame(out).iloc[:, ::-1]\n",
    "\n",
    "def load_data(name):\n",
    "    return pd.read_parquet(SAVE_DIR / f\"{name}.parquet.gzip\")\n"
   ]
  },
  {
   "cell_type": "code",
   "execution_count": 3,
   "metadata": {},
   "outputs": [],
   "source": [
    "\n",
    "auc_intervals = [\n",
    "    (-10, 10),\n",
    "    (-10, 0),\n",
    "    (-2.5, 2.5),\n",
    "    (0, 10)\n",
    "    ]"
   ]
  },
  {
   "cell_type": "code",
   "execution_count": 4,
   "metadata": {},
   "outputs": [],
   "source": [
    "df = load_data(\"USD2\").groupby([\"config\", \"shuffle\", \"offset\"], as_index=False)[\"f1score\"].mean()\n",
    "pval_ts = df.groupby([\"offset\"]).apply(compare_by_group, group_col=\"config\", value_col=\"f1score\").reset_index().assign(p=lambda x: p_adjust(x.p))\n",
    "auc_res = compare_auc_at_intervals(df, auc_intervals)\n",
    "pval_ts.to_csv(SAVE_DIR / \"USD2 - p val time series.csv\", index=False)\n",
    "auc_res.to_csv(SAVE_DIR / \"USD2 -AUC at intervals.csv\", index=False)"
   ]
  },
  {
   "cell_type": "code",
   "execution_count": 5,
   "metadata": {},
   "outputs": [],
   "source": [
    "df = load_data(\"USD4\").groupby([\"config\", \"shuffle\", \"offset\"], as_index=False)[\"f1score\"].mean()\n",
    "pval_ts = df.groupby([\"offset\"]).apply(compare_by_group, group_col=\"config\", value_col=\"f1score\").reset_index().assign(p=lambda x: p_adjust(x.p))\n",
    "auc_res = compare_auc_at_intervals(df, auc_intervals)\n",
    "pval_ts.to_csv(SAVE_DIR / \"USD4 - p val time series.csv\", index=False)\n",
    "auc_res.to_csv(SAVE_DIR / \"USD4 -AUC at intervals.csv\", index=False)"
   ]
  },
  {
   "cell_type": "code",
   "execution_count": 6,
   "metadata": {},
   "outputs": [],
   "source": [
    "df = load_data(\"USCombined\").groupby([\"config\", \"shuffle\", \"offset\"], as_index=False)[\"f1score\"].mean()\n",
    "pval_ts = df.groupby([\"offset\"]).apply(compare_by_group, group_col=\"config\", value_col=\"f1score\").reset_index().assign(p=lambda x: p_adjust(x.p))\n",
    "auc_res = compare_auc_at_intervals(df, auc_intervals)\n",
    "pval_ts.to_csv(SAVE_DIR / \"USCombined - p val time series.csv\", index=False)\n",
    "auc_res.to_csv(SAVE_DIR / \"USCombined -AUC at intervals.csv\", index=False)"
   ]
  },
  {
   "cell_type": "code",
   "execution_count": 7,
   "metadata": {},
   "outputs": [],
   "source": [
    "df = load_data(\"StartD2\").groupby([\"config\", \"shuffle\", \"offset\"], as_index=False)[\"f1score\"].mean()\n",
    "pval_ts = df.groupby([\"offset\"]).apply(compare_by_group, group_col=\"config\", value_col=\"f1score\").reset_index().assign(p=lambda x: p_adjust(x.p))\n",
    "auc_res = compare_auc_at_intervals(df, auc_intervals)\n",
    "pval_ts.to_csv(SAVE_DIR / \"StartD2 - p val time series.csv\", index=False)\n",
    "auc_res.to_csv(SAVE_DIR / \"StartD2 -AUC at intervals.csv\", index=False)"
   ]
  },
  {
   "cell_type": "code",
   "execution_count": 8,
   "metadata": {},
   "outputs": [],
   "source": [
    "df = load_data(\"StopD2\").groupby([\"config\", \"shuffle\", \"offset\"], as_index=False)[\"f1score\"].mean()\n",
    "pval_ts = df.groupby([\"offset\"]).apply(compare_by_group, group_col=\"config\", value_col=\"f1score\").reset_index().assign(p=lambda x: p_adjust(x.p))\n",
    "auc_res = compare_auc_at_intervals(df, auc_intervals)\n",
    "pval_ts.to_csv(SAVE_DIR / \"StopD2 - p val time series.csv\", index=False)\n",
    "auc_res.to_csv(SAVE_DIR / \"StopD2 -AUC at intervals.csv\", index=False)"
   ]
  },
  {
   "cell_type": "code",
   "execution_count": 9,
   "metadata": {},
   "outputs": [],
   "source": [
    "df = load_data(\"StartStopD2Combined\").groupby([\"config\", \"shuffle\", \"offset\"], as_index=False)[\"f1score\"].mean()\n",
    "pval_ts = df.groupby([\"offset\"]).apply(compare_by_group, group_col=\"config\", value_col=\"f1score\").reset_index().assign(p=lambda x: p_adjust(x.p))\n",
    "auc_res = compare_auc_at_intervals(df, auc_intervals)\n",
    "pval_ts.to_csv(SAVE_DIR / \"StartStopD2Combined - p val time series.csv\", index=False)\n",
    "auc_res.to_csv(SAVE_DIR / \"StartStopD2Combined -AUC at intervals.csv\", index=False)"
   ]
  },
  {
   "cell_type": "code",
   "execution_count": null,
   "metadata": {},
   "outputs": [],
   "source": []
  }
 ],
 "metadata": {
  "interpreter": {
   "hash": "db8c8e92eda8f5b42ff04bc066bf8085628d0542e885e89a7e4de00fa8904b0d"
  },
  "kernelspec": {
   "display_name": "Python 3.7.11 ('observational-fear')",
   "language": "python",
   "name": "python3"
  },
  "language_info": {
   "codemirror_mode": {
    "name": "ipython",
    "version": 3
   },
   "file_extension": ".py",
   "mimetype": "text/x-python",
   "name": "python",
   "nbconvert_exporter": "python",
   "pygments_lexer": "ipython3",
   "version": "3.7.11"
  },
  "orig_nbformat": 4
 },
 "nbformat": 4,
 "nbformat_minor": 2
}
